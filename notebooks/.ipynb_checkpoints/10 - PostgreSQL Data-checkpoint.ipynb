{
 "cells": [
  {
   "cell_type": "code",
   "execution_count": 1,
   "id": "6385f629",
   "metadata": {},
   "outputs": [],
   "source": [
    "import psycopg2\n",
    "from psycopg2.extras import execute_values\n",
    "\n",
    "import numpy as np\n",
    "import pandas as pd"
   ]
  },
  {
   "cell_type": "code",
   "execution_count": 2,
   "id": "6ec92a8e",
   "metadata": {},
   "outputs": [],
   "source": [
    "dojo_shopping_product_df = pd.read_csv(\"../Datasets/shopping_product_data.csv\")\n",
    "dojo_shopping_product_df = dojo_shopping_product_df.rename(columns={\"Unnamed: 0\": \"product_id\",\n",
    "                                                                    \"product_type\": \"category\",\n",
    "                                                                    \"product_subtype\": \"sub_category\"})\n",
    "dojo_shopping_product_df = dojo_shopping_product_df[[\"product_id\", \"product_name\", \"product_code\", \"category\",\n",
    "                                                            \"sub_category\", \"product_price\"]]"
   ]
  },
  {
   "cell_type": "code",
   "execution_count": 3,
   "id": "6b868aac",
   "metadata": {},
   "outputs": [],
   "source": [
    "dojo_shopping_product_cols = dojo_shopping_product_df.columns.tolist()\n",
    "dojo_shopping_product_data = dojo_shopping_product_df.values"
   ]
  },
  {
   "cell_type": "markdown",
   "id": "b0550cd1",
   "metadata": {},
   "source": [
    "### `Database Connection`"
   ]
  },
  {
   "cell_type": "code",
   "execution_count": 4,
   "id": "23c81b0c",
   "metadata": {},
   "outputs": [],
   "source": [
    "user = \"postgres\"           # postgres is default postgresql superuser\n",
    "password = \"123m\"     # please provide password for postgres user\n",
    "\n",
    "conn = psycopg2.connect(\n",
    "    host=\"localhost\",\n",
    "    database=\"ds_products_db\",\n",
    "    user=user,\n",
    "    password=password)\n",
    "\n",
    "cur = conn.cursor()\n"
   ]
  },
  {
   "cell_type": "markdown",
   "id": "96ec25d8",
   "metadata": {},
   "source": [
    "### `Create Table`"
   ]
  },
  {
   "cell_type": "code",
   "execution_count": 5,
   "id": "c1005e1e",
   "metadata": {},
   "outputs": [],
   "source": [
    "sql_create_table_shopping_products = \\\n",
    "\"\"\"\n",
    "CREATE TABLE IF NOT EXISTS ShoppingProducts (\n",
    "    product_id int PRIMARY KEY,\n",
    "    product_name varchar(300) NOT NULL,\n",
    "    product_code varchar(300) NOT NULL,\n",
    "    category varchar(100),\n",
    "    sub_category varchar(100),\n",
    "    product_price float\n",
    ");\n",
    "\"\"\""
   ]
  },
  {
   "cell_type": "code",
   "execution_count": 6,
   "id": "0e83ab32",
   "metadata": {},
   "outputs": [],
   "source": [
    "cur.execute(sql_create_table_shopping_products)"
   ]
  },
  {
   "cell_type": "markdown",
   "id": "c27cf503",
   "metadata": {},
   "source": [
    "### `Data Insertion`"
   ]
  },
  {
   "cell_type": "code",
   "execution_count": 7,
   "id": "4d27cd64",
   "metadata": {},
   "outputs": [
    {
     "name": "stdout",
     "output_type": "stream",
     "text": [
      "INSERT - Shopping Products\n"
     ]
    }
   ],
   "source": [
    "print(\"INSERT - Shopping Products\")\n",
    "execute_values(cur, 'INSERT INTO ShoppingProducts VALUES %s', dojo_shopping_product_data.tolist())"
   ]
  },
  {
   "cell_type": "markdown",
   "id": "aa8bd033",
   "metadata": {},
   "source": [
    "### `Close Connection`"
   ]
  },
  {
   "cell_type": "code",
   "execution_count": 8,
   "id": "4a7a8611",
   "metadata": {},
   "outputs": [
    {
     "name": "stdout",
     "output_type": "stream",
     "text": [
      "DONE!\n"
     ]
    }
   ],
   "source": [
    "print(\"DONE!\")\n",
    "cur.close()\n",
    "conn.commit()"
   ]
  }
 ],
 "metadata": {
  "kernelspec": {
   "display_name": "DataEngineeringKer",
   "language": "python",
   "name": "dataengineeringker"
  },
  "language_info": {
   "codemirror_mode": {
    "name": "ipython",
    "version": 3
   },
   "file_extension": ".py",
   "mimetype": "text/x-python",
   "name": "python",
   "nbconvert_exporter": "python",
   "pygments_lexer": "ipython3",
   "version": "3.8.16"
  }
 },
 "nbformat": 4,
 "nbformat_minor": 5
}
