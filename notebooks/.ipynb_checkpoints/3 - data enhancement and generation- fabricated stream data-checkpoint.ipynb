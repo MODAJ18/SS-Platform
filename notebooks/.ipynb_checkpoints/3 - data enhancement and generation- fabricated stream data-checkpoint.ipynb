{
 "cells": [
  {
   "cell_type": "code",
   "execution_count": 1,
   "id": "b13cdbc1",
   "metadata": {},
   "outputs": [],
   "source": [
    "import pandas as pd\n",
    "import numpy as np"
   ]
  },
  {
   "cell_type": "code",
   "execution_count": 2,
   "id": "0433e6d2",
   "metadata": {},
   "outputs": [],
   "source": [
    "from faker import Faker\n",
    "import random\n",
    "import datetime\n",
    "import os "
   ]
  },
  {
   "cell_type": "code",
   "execution_count": 3,
   "id": "713c31be",
   "metadata": {},
   "outputs": [],
   "source": [
    "data_dir = os.path.join(\"..\", \"Datasets\", \"db\")\n",
    "customer_t = pd.read_csv(os.path.join(data_dir, \"Customers.csv\"))\n",
    "location_t = pd.read_csv(os.path.join(data_dir, \"Locations.csv\"))\n",
    "order_detail_t = pd.read_csv(os.path.join(data_dir, \"Order_Details.csv\"))\n",
    "order_t = pd.read_csv(os.path.join(data_dir, \"Orders.csv\"))\n",
    "product_t = pd.read_csv(os.path.join(data_dir, \"Products.csv\"))\n",
    "\n",
    "fake = Faker()"
   ]
  },
  {
   "cell_type": "markdown",
   "id": "2777f271",
   "metadata": {},
   "source": [
    "## `1) Manual Generation`"
   ]
  },
  {
   "cell_type": "markdown",
   "id": "9b1d2e6d",
   "metadata": {},
   "source": [
    "### 1- customers"
   ]
  },
  {
   "cell_type": "markdown",
   "id": "c35ccd55",
   "metadata": {},
   "source": [
    "add column:\n",
    "- customer email\n",
    "- customer password (prefer encrypted)\n",
    "- customer username\n",
    "\n",
    "add new data entries (custom way):\n",
    "- id \n",
    "- customer segment"
   ]
  },
  {
   "cell_type": "code",
   "execution_count": 4,
   "id": "1a0d0e04",
   "metadata": {},
   "outputs": [
    {
     "data": {
      "text/html": [
       "<div>\n",
       "<style scoped>\n",
       "    .dataframe tbody tr th:only-of-type {\n",
       "        vertical-align: middle;\n",
       "    }\n",
       "\n",
       "    .dataframe tbody tr th {\n",
       "        vertical-align: top;\n",
       "    }\n",
       "\n",
       "    .dataframe thead th {\n",
       "        text-align: right;\n",
       "    }\n",
       "</style>\n",
       "<table border=\"1\" class=\"dataframe\">\n",
       "  <thead>\n",
       "    <tr style=\"text-align: right;\">\n",
       "      <th></th>\n",
       "      <th>customer_id</th>\n",
       "      <th>customer_name</th>\n",
       "      <th>segment</th>\n",
       "    </tr>\n",
       "  </thead>\n",
       "  <tbody>\n",
       "    <tr>\n",
       "      <th>0</th>\n",
       "      <td>CG-12520</td>\n",
       "      <td>Claire Gute</td>\n",
       "      <td>Consumer</td>\n",
       "    </tr>\n",
       "    <tr>\n",
       "      <th>1</th>\n",
       "      <td>DV-13045</td>\n",
       "      <td>Darrin Van Huff</td>\n",
       "      <td>Corporate</td>\n",
       "    </tr>\n",
       "    <tr>\n",
       "      <th>2</th>\n",
       "      <td>SO-20335</td>\n",
       "      <td>Sean O'Donnell</td>\n",
       "      <td>Consumer</td>\n",
       "    </tr>\n",
       "    <tr>\n",
       "      <th>3</th>\n",
       "      <td>BH-11710</td>\n",
       "      <td>Brosina Hoffman</td>\n",
       "      <td>Consumer</td>\n",
       "    </tr>\n",
       "    <tr>\n",
       "      <th>4</th>\n",
       "      <td>AA-10480</td>\n",
       "      <td>Andrew Allen</td>\n",
       "      <td>Consumer</td>\n",
       "    </tr>\n",
       "  </tbody>\n",
       "</table>\n",
       "</div>"
      ],
      "text/plain": [
       "  customer_id    customer_name    segment\n",
       "0    CG-12520      Claire Gute   Consumer\n",
       "1    DV-13045  Darrin Van Huff  Corporate\n",
       "2    SO-20335   Sean O'Donnell   Consumer\n",
       "3    BH-11710  Brosina Hoffman   Consumer\n",
       "4    AA-10480     Andrew Allen   Consumer"
      ]
     },
     "execution_count": 4,
     "metadata": {},
     "output_type": "execute_result"
    }
   ],
   "source": [
    "customer_t.head()"
   ]
  },
  {
   "cell_type": "markdown",
   "id": "bf5580dd",
   "metadata": {},
   "source": [
    "**`Data Enrichment`**"
   ]
  },
  {
   "cell_type": "code",
   "execution_count": 5,
   "id": "282b25f8",
   "metadata": {},
   "outputs": [
    {
     "name": "stdout",
     "output_type": "stream",
     "text": [
      "number of supposed unique values: 793\n",
      "number of unique emails: 793\n",
      "number of unique passwords: 793\n",
      "number of unique user names: 793\n"
     ]
    },
    {
     "data": {
      "text/html": [
       "<div>\n",
       "<style scoped>\n",
       "    .dataframe tbody tr th:only-of-type {\n",
       "        vertical-align: middle;\n",
       "    }\n",
       "\n",
       "    .dataframe tbody tr th {\n",
       "        vertical-align: top;\n",
       "    }\n",
       "\n",
       "    .dataframe thead th {\n",
       "        text-align: right;\n",
       "    }\n",
       "</style>\n",
       "<table border=\"1\" class=\"dataframe\">\n",
       "  <thead>\n",
       "    <tr style=\"text-align: right;\">\n",
       "      <th></th>\n",
       "      <th>customer_id</th>\n",
       "      <th>customer_name</th>\n",
       "      <th>segment</th>\n",
       "      <th>email</th>\n",
       "      <th>password</th>\n",
       "      <th>username</th>\n",
       "    </tr>\n",
       "  </thead>\n",
       "  <tbody>\n",
       "    <tr>\n",
       "      <th>0</th>\n",
       "      <td>CG-12520</td>\n",
       "      <td>Claire Gute</td>\n",
       "      <td>Consumer</td>\n",
       "      <td>hufferic@example.org</td>\n",
       "      <td>H0DTF^lN!m</td>\n",
       "      <td>stacey06</td>\n",
       "    </tr>\n",
       "    <tr>\n",
       "      <th>1</th>\n",
       "      <td>DV-13045</td>\n",
       "      <td>Darrin Van Huff</td>\n",
       "      <td>Corporate</td>\n",
       "      <td>ijordan@example.net</td>\n",
       "      <td>ebl_D1k&amp;%8</td>\n",
       "      <td>nicholasmorrison</td>\n",
       "    </tr>\n",
       "  </tbody>\n",
       "</table>\n",
       "</div>"
      ],
      "text/plain": [
       "  customer_id    customer_name    segment                 email    password  \\\n",
       "0    CG-12520      Claire Gute   Consumer  hufferic@example.org  H0DTF^lN!m   \n",
       "1    DV-13045  Darrin Van Huff  Corporate   ijordan@example.net  ebl_D1k&%8   \n",
       "\n",
       "           username  \n",
       "0          stacey06  \n",
       "1  nicholasmorrison  "
      ]
     },
     "metadata": {},
     "output_type": "display_data"
    }
   ],
   "source": [
    "emails = []\n",
    "passwords = []\n",
    "usernames = []\n",
    "num_unique = customer_t.shape[0]\n",
    "\n",
    "for i in range(num_unique):\n",
    "    emails.append(fake.email())\n",
    "    passwords.append(fake.password())\n",
    "    usernames.append(fake.user_name())\n",
    "\n",
    "emails = list(set(emails))\n",
    "passwords = list(set(passwords))\n",
    "\n",
    "while len(emails) < num_unique:\n",
    "    emails.append(fake.email())\n",
    "    emails = list(set(emails))\n",
    "while len(passwords) < num_unique:\n",
    "    passwords.append(fake.password())\n",
    "    passwords = list(set(passwords))\n",
    "\n",
    "customer_t[\"email\"] = emails\n",
    "customer_t[\"password\"] = passwords\n",
    "customer_t[\"username\"] = usernames\n",
    "\n",
    "\n",
    "print(\"number of supposed unique values: {}\".format(customer_t.shape[0]))\n",
    "print(\"number of unique emails: {}\".format(len(emails)))\n",
    "print(\"number of unique passwords: {}\".format(len(passwords)))\n",
    "print(\"number of unique user names: {}\".format(len(usernames)))\n",
    "display(customer_t.head(2))"
   ]
  },
  {
   "cell_type": "markdown",
   "id": "3df1f27d",
   "metadata": {},
   "source": [
    "**`data generation`**"
   ]
  },
  {
   "cell_type": "code",
   "execution_count": 6,
   "id": "c78983d2",
   "metadata": {},
   "outputs": [
    {
     "name": "stdout",
     "output_type": "stream",
     "text": [
      "new customer ID: RS-83639\n",
      "new customer name: Maria Mullins\n",
      "segment pool item -> Corporate\n",
      "email: newmanjerry@example.net / password: $hkFO6Qsn3 / username: ryanbutler\n"
     ]
    }
   ],
   "source": [
    "# customer_id\n",
    "c_code_pt_1 = 'RS'\n",
    "rows_c_code_pt_1 = customer_t[customer_t[\"customer_id\"].str.contains('RS', na=False)]\n",
    "rows_c_code_pt_1_ids = rows_c_code_pt_1[\"customer_id\"].to_list()\n",
    "c_code_pt_2 = '{:05}'.format(random.randrange(1, 10**5))  # 5-digit number\n",
    "new_c_code = c_code_pt_1 + \"-\" + c_code_pt_2\n",
    "while new_c_code in rows_c_code_pt_1_ids:\n",
    "    c_code_pt_2 = '{:05}'.format(random.randrange(1, 10**5))\n",
    "    new_c_code = c_code_pt_1 + \"-\" + c_code_pt_2\n",
    "print(\"new customer ID: {}\".format(new_c_code))\n",
    "\n",
    "\n",
    "# name\n",
    "new_c_name = fake.name()\n",
    "print('new customer name: {}'.format(new_c_name))\n",
    "\n",
    "\n",
    "# customer segment\n",
    "n_items = 10\n",
    "customer_seg_dist = round(customer_t[\"segment\"].value_counts() / customer_t[\"segment\"].shape[0] * n_items)\n",
    "segment_pool = []\n",
    "for r, r_id  in list(zip(customer_seg_dist, customer_seg_dist.index)):\n",
    "    for occurance in range(int(r)):\n",
    "        segment_pool.append(r_id)\n",
    "selected_index = random.randrange(0, len(segment_pool))\n",
    "new_c_segment = segment_pool[selected_index]\n",
    "print(\"segment pool item -> {}\".format(new_c_segment))\n",
    "\n",
    "\n",
    "# email, password, username\n",
    "print(\"email: {} / password: {} / username: {}\".format(fake.email(), fake.password(), fake.user_name()))\n"
   ]
  },
  {
   "cell_type": "markdown",
   "id": "ac0a65df",
   "metadata": {},
   "source": [
    "### 2- locations"
   ]
  },
  {
   "cell_type": "markdown",
   "id": "9fd43eee",
   "metadata": {},
   "source": [
    "add new data entries (custom way):\n",
    "- country \n",
    "- city\n",
    "- state\n",
    "- postal_code\n",
    "\n",
    "\n",
    "default values:\n",
    "- region (\"Unknown\")\n",
    "- location_id (max_id + 1)\n"
   ]
  },
  {
   "cell_type": "code",
   "execution_count": 7,
   "id": "4f19d314",
   "metadata": {},
   "outputs": [
    {
     "data": {
      "text/html": [
       "<div>\n",
       "<style scoped>\n",
       "    .dataframe tbody tr th:only-of-type {\n",
       "        vertical-align: middle;\n",
       "    }\n",
       "\n",
       "    .dataframe tbody tr th {\n",
       "        vertical-align: top;\n",
       "    }\n",
       "\n",
       "    .dataframe thead th {\n",
       "        text-align: right;\n",
       "    }\n",
       "</style>\n",
       "<table border=\"1\" class=\"dataframe\">\n",
       "  <thead>\n",
       "    <tr style=\"text-align: right;\">\n",
       "      <th></th>\n",
       "      <th>country</th>\n",
       "      <th>city</th>\n",
       "      <th>state</th>\n",
       "      <th>postal_code</th>\n",
       "      <th>region</th>\n",
       "      <th>location_id</th>\n",
       "    </tr>\n",
       "  </thead>\n",
       "  <tbody>\n",
       "    <tr>\n",
       "      <th>0</th>\n",
       "      <td>United States</td>\n",
       "      <td>Henderson</td>\n",
       "      <td>Kentucky</td>\n",
       "      <td>42420</td>\n",
       "      <td>South</td>\n",
       "      <td>0</td>\n",
       "    </tr>\n",
       "    <tr>\n",
       "      <th>1</th>\n",
       "      <td>United States</td>\n",
       "      <td>Los Angeles</td>\n",
       "      <td>California</td>\n",
       "      <td>90036</td>\n",
       "      <td>West</td>\n",
       "      <td>1</td>\n",
       "    </tr>\n",
       "    <tr>\n",
       "      <th>2</th>\n",
       "      <td>United States</td>\n",
       "      <td>Fort Lauderdale</td>\n",
       "      <td>Florida</td>\n",
       "      <td>33311</td>\n",
       "      <td>South</td>\n",
       "      <td>2</td>\n",
       "    </tr>\n",
       "    <tr>\n",
       "      <th>3</th>\n",
       "      <td>United States</td>\n",
       "      <td>Los Angeles</td>\n",
       "      <td>California</td>\n",
       "      <td>90032</td>\n",
       "      <td>West</td>\n",
       "      <td>3</td>\n",
       "    </tr>\n",
       "    <tr>\n",
       "      <th>4</th>\n",
       "      <td>United States</td>\n",
       "      <td>Concord</td>\n",
       "      <td>North Carolina</td>\n",
       "      <td>28027</td>\n",
       "      <td>South</td>\n",
       "      <td>4</td>\n",
       "    </tr>\n",
       "  </tbody>\n",
       "</table>\n",
       "</div>"
      ],
      "text/plain": [
       "         country             city           state  postal_code region  \\\n",
       "0  United States        Henderson        Kentucky        42420  South   \n",
       "1  United States      Los Angeles      California        90036   West   \n",
       "2  United States  Fort Lauderdale         Florida        33311  South   \n",
       "3  United States      Los Angeles      California        90032   West   \n",
       "4  United States          Concord  North Carolina        28027  South   \n",
       "\n",
       "   location_id  \n",
       "0            0  \n",
       "1            1  \n",
       "2            2  \n",
       "3            3  \n",
       "4            4  "
      ]
     },
     "execution_count": 7,
     "metadata": {},
     "output_type": "execute_result"
    }
   ],
   "source": [
    "location_t.head()"
   ]
  },
  {
   "cell_type": "markdown",
   "id": "90d52d0a",
   "metadata": {},
   "source": [
    "**`data generation`**"
   ]
  },
  {
   "cell_type": "code",
   "execution_count": 8,
   "id": "40796526",
   "metadata": {},
   "outputs": [],
   "source": [
    "from geopy.geocoders import Nominatim"
   ]
  },
  {
   "cell_type": "code",
   "execution_count": 9,
   "id": "2540fecc",
   "metadata": {},
   "outputs": [
    {
     "name": "stdout",
     "output_type": "stream",
     "text": [
      "found 0 matches in DB\n",
      "new location entry - ID 632: ('United States', '', 'Florida', '33573', 'South', 632)\n"
     ]
    }
   ],
   "source": [
    "# - processing random location\n",
    "geolocator = Nominatim(user_agent=\"geoapiExercises\")\n",
    "Latitude = str(fake.latitude())\n",
    "Longitude = str(fake.longitude())\n",
    "lat, lng = fake.local_latlng()[0:2]\n",
    "location = geolocator.reverse(lat+\",\"+lng)\n",
    "address = location.raw['address']\n",
    "\n",
    "# city, state, country, zipcode\n",
    "new_city = address.get('city', '')\n",
    "new_state = address.get('state', '')\n",
    "new_country = address.get('country', '')\n",
    "new_zipcode = address.get('postcode')\n",
    "\n",
    "# region\n",
    "state_region_info = location_t.groupby([\"state\", \"region\"]).count()[[\"country\"]].\\\n",
    "                                    rename(columns={\"country\": \"count\"}).reset_index()\n",
    "def get_region(state_i):\n",
    "    new_state_region_matches = state_region_info[state_region_info[\"state\"]==state_i]\n",
    "    if new_state_region_matches.shape[0] > 0:\n",
    "        new_region = new_state_region_matches.sample(1).iloc[0][\"region\"]\n",
    "    else:\n",
    "        new_region = \"Unknown\"\n",
    "    return new_region\n",
    "\n",
    "# location id\n",
    "fil_1 = location_t[\"country\"] == new_country\n",
    "fil_2 = location_t[\"state\"] == new_state\n",
    "fil_3 = location_t[\"postal_code\"] == new_zipcode\n",
    "fil_4 = location_t[\"city\"] == new_city\n",
    "location_match_num = location_t[fil_1 & fil_2 & fil_3 & fil_4].shape[0]\n",
    "print(\"found {} matches in DB\".format(location_match_num))\n",
    "if location_match_num == 0:\n",
    "    new_location_id = location_t[\"location_id\"].max() + 1\n",
    "    new_region = get_region(new_state)    \n",
    "    new_location = (new_country, new_city, new_state, new_zipcode, new_region, new_location_id)\n",
    "    print(\"new location entry - ID {}: {}\".format(new_location_id, new_location))\n",
    "else:\n",
    "    new_location_id = None\n",
    "    print(\"no new location: {}\".format(new_location))\n"
   ]
  },
  {
   "cell_type": "markdown",
   "id": "8705c930",
   "metadata": {},
   "source": [
    "---"
   ]
  },
  {
   "cell_type": "markdown",
   "id": "0891a37b",
   "metadata": {},
   "source": [
    "### 3- orders"
   ]
  },
  {
   "cell_type": "markdown",
   "id": "091c7b0c",
   "metadata": {},
   "source": [
    "add new data entries (custom way):\n",
    "- order_id\n",
    "- ship mode\n",
    "- order_date\n",
    "- ship_date\n",
    "- customer_id"
   ]
  },
  {
   "cell_type": "code",
   "execution_count": 10,
   "id": "cbc03ea0",
   "metadata": {},
   "outputs": [
    {
     "data": {
      "text/html": [
       "<div>\n",
       "<style scoped>\n",
       "    .dataframe tbody tr th:only-of-type {\n",
       "        vertical-align: middle;\n",
       "    }\n",
       "\n",
       "    .dataframe tbody tr th {\n",
       "        vertical-align: top;\n",
       "    }\n",
       "\n",
       "    .dataframe thead th {\n",
       "        text-align: right;\n",
       "    }\n",
       "</style>\n",
       "<table border=\"1\" class=\"dataframe\">\n",
       "  <thead>\n",
       "    <tr style=\"text-align: right;\">\n",
       "      <th></th>\n",
       "      <th>order_id</th>\n",
       "      <th>order_date</th>\n",
       "      <th>ship_date</th>\n",
       "      <th>ship_mode</th>\n",
       "      <th>customer_id</th>\n",
       "    </tr>\n",
       "  </thead>\n",
       "  <tbody>\n",
       "    <tr>\n",
       "      <th>0</th>\n",
       "      <td>CA-2016-152156</td>\n",
       "      <td>2016-11-08</td>\n",
       "      <td>2016-11-11</td>\n",
       "      <td>Second Class</td>\n",
       "      <td>CG-12520</td>\n",
       "    </tr>\n",
       "    <tr>\n",
       "      <th>1</th>\n",
       "      <td>CA-2016-138688</td>\n",
       "      <td>2016-06-12</td>\n",
       "      <td>2016-06-16</td>\n",
       "      <td>Second Class</td>\n",
       "      <td>DV-13045</td>\n",
       "    </tr>\n",
       "    <tr>\n",
       "      <th>2</th>\n",
       "      <td>US-2015-108966</td>\n",
       "      <td>2015-10-11</td>\n",
       "      <td>2015-10-18</td>\n",
       "      <td>Standard Class</td>\n",
       "      <td>SO-20335</td>\n",
       "    </tr>\n",
       "    <tr>\n",
       "      <th>3</th>\n",
       "      <td>CA-2014-115812</td>\n",
       "      <td>2014-06-09</td>\n",
       "      <td>2014-06-14</td>\n",
       "      <td>Standard Class</td>\n",
       "      <td>BH-11710</td>\n",
       "    </tr>\n",
       "    <tr>\n",
       "      <th>4</th>\n",
       "      <td>CA-2017-114412</td>\n",
       "      <td>2017-04-15</td>\n",
       "      <td>2017-04-20</td>\n",
       "      <td>Standard Class</td>\n",
       "      <td>AA-10480</td>\n",
       "    </tr>\n",
       "  </tbody>\n",
       "</table>\n",
       "</div>"
      ],
      "text/plain": [
       "         order_id  order_date   ship_date       ship_mode customer_id\n",
       "0  CA-2016-152156  2016-11-08  2016-11-11    Second Class    CG-12520\n",
       "1  CA-2016-138688  2016-06-12  2016-06-16    Second Class    DV-13045\n",
       "2  US-2015-108966  2015-10-11  2015-10-18  Standard Class    SO-20335\n",
       "3  CA-2014-115812  2014-06-09  2014-06-14  Standard Class    BH-11710\n",
       "4  CA-2017-114412  2017-04-15  2017-04-20  Standard Class    AA-10480"
      ]
     },
     "execution_count": 10,
     "metadata": {},
     "output_type": "execute_result"
    }
   ],
   "source": [
    "order_t.head()"
   ]
  },
  {
   "cell_type": "markdown",
   "id": "532379d1",
   "metadata": {},
   "source": [
    "**`data generation`**"
   ]
  },
  {
   "cell_type": "code",
   "execution_count": 11,
   "id": "be12d86e",
   "metadata": {},
   "outputs": [],
   "source": [
    "import datetime"
   ]
  },
  {
   "cell_type": "code",
   "execution_count": 12,
   "id": "df84ed56",
   "metadata": {},
   "outputs": [
    {
     "name": "stdout",
     "output_type": "stream",
     "text": [
      "order_id: CA-2018-786698\n",
      "order_date: 2018-12-20 / ship_date: 2018-12-20 / ship_mode: Same Day\n",
      "customer_id: GR-14560\n"
     ]
    }
   ],
   "source": [
    "# ship mode + order_date + ship_date\n",
    "ship_modes = order_t[\"ship_mode\"].unique()\n",
    "new_ship_mode = ship_modes[random.randrange(0, len(ship_modes))]\n",
    "order_date = fake.date_between(start_date='-10y', end_date='today')\n",
    "if new_ship_mode == \"Same Day\":\n",
    "    ship_date = order_date \n",
    "elif new_ship_mode == \"First Class\":\n",
    "    ship_date = order_date + datetime.timedelta(days=random.randrange(1, 6))\n",
    "elif new_ship_mode == \"Second Class\":\n",
    "    ship_date = order_date + datetime.timedelta(days=random.randrange(7, 15))\n",
    "else:\n",
    "    ship_date = order_date + datetime.timedelta(days=random.randrange(16, 30))\n",
    "\n",
    "    \n",
    "# order_id\n",
    "order_id_pt_1_l = list(order_t[\"order_id\"].apply(lambda x: x.split(\"-\")[0]).unique())\n",
    "order_id_pt_2_l = list(order_t[\"order_id\"].apply(lambda x: x.split(\"-\")[1]).unique())\n",
    "order_id_pt_3_l = list(order_t[\"order_id\"].apply(lambda x: x.split(\"-\")[2]).unique())\n",
    "selected_index_pt1 = random.randrange(0, len(order_id_pt_1_l))\n",
    "new_pt1 = order_id_pt_1_l[selected_index_pt1] # new_order_id_pt1, \n",
    "new_pt2 = str(order_date.year) # new_order_id_pt2 \n",
    "random_six_digit = '{:06}'.format(random.randrange(1, 10**6))\n",
    "while random_six_digit in order_id_pt_3_l:\n",
    "    print('repeat')\n",
    "    random_six_digit = '{:06}'.format(random.randrange(1, 10**6))\n",
    "new_pt3 = random_six_digit # new_order_id_pt3\n",
    "new_order_id = new_pt1 + \"-\" + new_pt2 + \"-\" + new_pt3  # new_order_id\n",
    "    \n",
    "\n",
    "# customer_id (FK)\n",
    "customer_id_ind = random.randrange(0, customer_t['customer_id'].shape[0])\n",
    "customer_id_selected = customer_t['customer_id'][customer_id_ind]\n",
    "\n",
    "\n",
    "print(\"order_id: {}\".format(new_order_id))\n",
    "print(\"order_date: {} / ship_date: {} / ship_mode: {}\".\n",
    "                                            format(order_date, ship_date, new_ship_mode))\n",
    "print(\"customer_id: {}\".format(customer_id_selected))"
   ]
  },
  {
   "cell_type": "markdown",
   "id": "46239143",
   "metadata": {},
   "source": [
    "### 4- products"
   ]
  },
  {
   "cell_type": "markdown",
   "id": "09197488",
   "metadata": {},
   "source": [
    "add column:\n",
    "- product price"
   ]
  },
  {
   "cell_type": "markdown",
   "id": "7290fa59",
   "metadata": {},
   "source": [
    "**`data enrichment`**"
   ]
  },
  {
   "cell_type": "code",
   "execution_count": 13,
   "id": "94e7e5e9",
   "metadata": {
    "scrolled": true
   },
   "outputs": [
    {
     "name": "stderr",
     "output_type": "stream",
     "text": [
      "/tmp/ipykernel_380504/3067284744.py:3: FutureWarning: The default value of numeric_only in DataFrameGroupBy.mean is deprecated. In a future version, numeric_only will default to False. Either specify numeric_only or select only columns which should be valid for the function.\n",
      "  product_t[\"product_price\"] = order_detail_tccc.groupby([\"product_id\"]).mean()[\"price\"]\n"
     ]
    },
    {
     "data": {
      "text/html": [
       "<div>\n",
       "<style scoped>\n",
       "    .dataframe tbody tr th:only-of-type {\n",
       "        vertical-align: middle;\n",
       "    }\n",
       "\n",
       "    .dataframe tbody tr th {\n",
       "        vertical-align: top;\n",
       "    }\n",
       "\n",
       "    .dataframe thead th {\n",
       "        text-align: right;\n",
       "    }\n",
       "</style>\n",
       "<table border=\"1\" class=\"dataframe\">\n",
       "  <thead>\n",
       "    <tr style=\"text-align: right;\">\n",
       "      <th></th>\n",
       "      <th>product_code</th>\n",
       "      <th>product_name</th>\n",
       "      <th>category</th>\n",
       "      <th>sub_category</th>\n",
       "      <th>product_id</th>\n",
       "      <th>product_price</th>\n",
       "    </tr>\n",
       "  </thead>\n",
       "  <tbody>\n",
       "    <tr>\n",
       "      <th>0</th>\n",
       "      <td>FUR-BO-10001798</td>\n",
       "      <td>Bush Somerset Collection Bookcase</td>\n",
       "      <td>Furniture</td>\n",
       "      <td>Bookcases</td>\n",
       "      <td>0</td>\n",
       "      <td>103.146750</td>\n",
       "    </tr>\n",
       "    <tr>\n",
       "      <th>1</th>\n",
       "      <td>FUR-CH-10000454</td>\n",
       "      <td>Hon Deluxe Fabric Upholstered Stacking Chairs,...</td>\n",
       "      <td>Furniture</td>\n",
       "      <td>Chairs</td>\n",
       "      <td>1</td>\n",
       "      <td>209.416167</td>\n",
       "    </tr>\n",
       "    <tr>\n",
       "      <th>2</th>\n",
       "      <td>OFF-LA-10000240</td>\n",
       "      <td>Self-Adhesive Address Labels for Typewriters b...</td>\n",
       "      <td>Office Supplies</td>\n",
       "      <td>Labels</td>\n",
       "      <td>2</td>\n",
       "      <td>6.683429</td>\n",
       "    </tr>\n",
       "    <tr>\n",
       "      <th>3</th>\n",
       "      <td>FUR-TA-10000577</td>\n",
       "      <td>Bretford CR4500 Series Slim Rectangular Table</td>\n",
       "      <td>Furniture</td>\n",
       "      <td>Tables</td>\n",
       "      <td>3</td>\n",
       "      <td>256.804875</td>\n",
       "    </tr>\n",
       "    <tr>\n",
       "      <th>4</th>\n",
       "      <td>OFF-ST-10000760</td>\n",
       "      <td>Eldon Fold 'N Roll Cart System</td>\n",
       "      <td>Office Supplies</td>\n",
       "      <td>Storage</td>\n",
       "      <td>4</td>\n",
       "      <td>12.302400</td>\n",
       "    </tr>\n",
       "  </tbody>\n",
       "</table>\n",
       "</div>"
      ],
      "text/plain": [
       "      product_code                                       product_name  \\\n",
       "0  FUR-BO-10001798                  Bush Somerset Collection Bookcase   \n",
       "1  FUR-CH-10000454  Hon Deluxe Fabric Upholstered Stacking Chairs,...   \n",
       "2  OFF-LA-10000240  Self-Adhesive Address Labels for Typewriters b...   \n",
       "3  FUR-TA-10000577      Bretford CR4500 Series Slim Rectangular Table   \n",
       "4  OFF-ST-10000760                     Eldon Fold 'N Roll Cart System   \n",
       "\n",
       "          category sub_category  product_id  product_price  \n",
       "0        Furniture    Bookcases           0     103.146750  \n",
       "1        Furniture       Chairs           1     209.416167  \n",
       "2  Office Supplies       Labels           2       6.683429  \n",
       "3        Furniture       Tables           3     256.804875  \n",
       "4  Office Supplies      Storage           4      12.302400  "
      ]
     },
     "execution_count": 13,
     "metadata": {},
     "output_type": "execute_result"
    }
   ],
   "source": [
    "order_detail_tccc = order_detail_t.copy() \n",
    "order_detail_tccc[\"price\"] = order_detail_tccc[\"sales\"] / order_detail_tccc[\"quantity\"]\n",
    "product_t[\"product_price\"] = order_detail_tccc.groupby([\"product_id\"]).mean()[\"price\"]\n",
    "product_t.head()"
   ]
  },
  {
   "cell_type": "markdown",
   "id": "eee4741b",
   "metadata": {},
   "source": [
    "### 5- order details "
   ]
  },
  {
   "cell_type": "markdown",
   "id": "568f9128",
   "metadata": {},
   "source": [
    "add new data entries (custom way):\n",
    "- order_id, product_id, location_id\n",
    "- sales, quantity, discount, profit\n",
    "- order_detail_id\n"
   ]
  },
  {
   "cell_type": "code",
   "execution_count": 14,
   "id": "8aefb024",
   "metadata": {
    "scrolled": true
   },
   "outputs": [
    {
     "data": {
      "text/html": [
       "<div>\n",
       "<style scoped>\n",
       "    .dataframe tbody tr th:only-of-type {\n",
       "        vertical-align: middle;\n",
       "    }\n",
       "\n",
       "    .dataframe tbody tr th {\n",
       "        vertical-align: top;\n",
       "    }\n",
       "\n",
       "    .dataframe thead th {\n",
       "        text-align: right;\n",
       "    }\n",
       "</style>\n",
       "<table border=\"1\" class=\"dataframe\">\n",
       "  <thead>\n",
       "    <tr style=\"text-align: right;\">\n",
       "      <th></th>\n",
       "      <th>order_detail_id</th>\n",
       "      <th>order_id</th>\n",
       "      <th>product_id</th>\n",
       "      <th>location_id</th>\n",
       "      <th>sales</th>\n",
       "      <th>quantity</th>\n",
       "      <th>discount</th>\n",
       "      <th>profit</th>\n",
       "    </tr>\n",
       "  </thead>\n",
       "  <tbody>\n",
       "    <tr>\n",
       "      <th>0</th>\n",
       "      <td>1</td>\n",
       "      <td>CA-2016-152156</td>\n",
       "      <td>0</td>\n",
       "      <td>0</td>\n",
       "      <td>261.9600</td>\n",
       "      <td>2</td>\n",
       "      <td>0.00</td>\n",
       "      <td>41.9136</td>\n",
       "    </tr>\n",
       "    <tr>\n",
       "      <th>1</th>\n",
       "      <td>2</td>\n",
       "      <td>CA-2016-152156</td>\n",
       "      <td>1</td>\n",
       "      <td>0</td>\n",
       "      <td>731.9400</td>\n",
       "      <td>3</td>\n",
       "      <td>0.00</td>\n",
       "      <td>219.5820</td>\n",
       "    </tr>\n",
       "    <tr>\n",
       "      <th>2</th>\n",
       "      <td>3</td>\n",
       "      <td>CA-2016-138688</td>\n",
       "      <td>2</td>\n",
       "      <td>1</td>\n",
       "      <td>14.6200</td>\n",
       "      <td>2</td>\n",
       "      <td>0.00</td>\n",
       "      <td>6.8714</td>\n",
       "    </tr>\n",
       "    <tr>\n",
       "      <th>3</th>\n",
       "      <td>4</td>\n",
       "      <td>US-2015-108966</td>\n",
       "      <td>3</td>\n",
       "      <td>2</td>\n",
       "      <td>957.5775</td>\n",
       "      <td>5</td>\n",
       "      <td>0.45</td>\n",
       "      <td>-383.0310</td>\n",
       "    </tr>\n",
       "    <tr>\n",
       "      <th>4</th>\n",
       "      <td>5</td>\n",
       "      <td>US-2015-108966</td>\n",
       "      <td>4</td>\n",
       "      <td>2</td>\n",
       "      <td>22.3680</td>\n",
       "      <td>2</td>\n",
       "      <td>0.20</td>\n",
       "      <td>2.5164</td>\n",
       "    </tr>\n",
       "  </tbody>\n",
       "</table>\n",
       "</div>"
      ],
      "text/plain": [
       "   order_detail_id        order_id  product_id  location_id     sales  \\\n",
       "0                1  CA-2016-152156           0            0  261.9600   \n",
       "1                2  CA-2016-152156           1            0  731.9400   \n",
       "2                3  CA-2016-138688           2            1   14.6200   \n",
       "3                4  US-2015-108966           3            2  957.5775   \n",
       "4                5  US-2015-108966           4            2   22.3680   \n",
       "\n",
       "   quantity  discount    profit  \n",
       "0         2      0.00   41.9136  \n",
       "1         3      0.00  219.5820  \n",
       "2         2      0.00    6.8714  \n",
       "3         5      0.45 -383.0310  \n",
       "4         2      0.20    2.5164  "
      ]
     },
     "execution_count": 14,
     "metadata": {},
     "output_type": "execute_result"
    }
   ],
   "source": [
    "order_detail_t.head()"
   ]
  },
  {
   "cell_type": "markdown",
   "id": "6fb0a60e",
   "metadata": {},
   "source": [
    "**`data generation`**"
   ]
  },
  {
   "cell_type": "code",
   "execution_count": 15,
   "id": "e8bfe5d8",
   "metadata": {},
   "outputs": [
    {
     "name": "stdout",
     "output_type": "stream",
     "text": [
      "location_id: 632 / order_id: CA-2018-786698 / product_id: 1364\n",
      "quantity: 2\n",
      "sales: 248.715 / discount: 0 / profit: 2.0\n",
      "order_detail_id: 9995\n"
     ]
    }
   ],
   "source": [
    "# location_id, order_id, product_id\n",
    "location_id_selected = new_location_id \n",
    "order_id_selected = new_order_id\n",
    "product_id_selected = product_t[\"product_id\"][random.randrange(0, product_t.shape[0])]\n",
    "print(\"location_id: {} / order_id: {} / product_id: {}\".\n",
    "                  format(location_id_selected, order_id_selected, product_id_selected))\n",
    "\n",
    "\n",
    "# quantity\n",
    "n_items = 1000\n",
    "quantity_dist = round(order_detail_t[\"quantity\"].value_counts() / order_detail_t[\"quantity\"].shape[0] * n_items)\n",
    "col_pool = []   # make pool of choices based on probabilites\n",
    "for r, r_id  in list(zip(quantity_dist, quantity_dist.index)):\n",
    "    for occurance in range(int(r)):\n",
    "        col_pool.append(r_id)\n",
    "# select random index from pool\n",
    "selected_index = random.randrange(0, len(col_pool))\n",
    "new_quantity = col_pool[selected_index]\n",
    "print(\"quantity: {}\".format(new_quantity))\n",
    "\n",
    "\n",
    "# sales, dicount, profit\n",
    "sales_change_l = [-1000, -500, -250, -100, -50, -25, -10, -5, 1, 2, 4, 5, 8, 10, 15, 25, 37, 50, 75, 100, 150, 200, 300, 500, 1000]\n",
    "new_expected_sales = float((product_t[product_t[\"product_id\"]==product_id_selected][\"product_price\"] * new_quantity))\n",
    "new_baseline_sales = new_expected_sales + random.choice(sales_change_l) * new_quantity\n",
    "new_discount = round(1 - min(new_baseline_sales/new_expected_sales, 1), 2)\n",
    "new_profit = new_baseline_sales - new_expected_sales\n",
    "print(\"sales: {} / discount: {} / profit: {}\".\n",
    "                                format(new_baseline_sales, new_discount, new_profit))\n",
    "\n",
    "\n",
    "# order_detail_id\n",
    "new_order_detail_id = order_detail_t[\"order_detail_id\"].max() + 1\n",
    "print(\"order_detail_id: {}\".format(new_order_detail_id))\n"
   ]
  },
  {
   "cell_type": "markdown",
   "id": "89f3b7d6",
   "metadata": {},
   "source": [
    "## `2) Save Enriched Data`"
   ]
  },
  {
   "cell_type": "code",
   "execution_count": 16,
   "id": "3f5e985d",
   "metadata": {},
   "outputs": [
    {
     "data": {
      "text/html": [
       "<div>\n",
       "<style scoped>\n",
       "    .dataframe tbody tr th:only-of-type {\n",
       "        vertical-align: middle;\n",
       "    }\n",
       "\n",
       "    .dataframe tbody tr th {\n",
       "        vertical-align: top;\n",
       "    }\n",
       "\n",
       "    .dataframe thead th {\n",
       "        text-align: right;\n",
       "    }\n",
       "</style>\n",
       "<table border=\"1\" class=\"dataframe\">\n",
       "  <thead>\n",
       "    <tr style=\"text-align: right;\">\n",
       "      <th></th>\n",
       "      <th>product_code</th>\n",
       "      <th>product_name</th>\n",
       "      <th>category</th>\n",
       "      <th>sub_category</th>\n",
       "      <th>product_id</th>\n",
       "      <th>product_price</th>\n",
       "    </tr>\n",
       "  </thead>\n",
       "  <tbody>\n",
       "    <tr>\n",
       "      <th>0</th>\n",
       "      <td>FUR-BO-10001798</td>\n",
       "      <td>Bush Somerset Collection Bookcase</td>\n",
       "      <td>Furniture</td>\n",
       "      <td>Bookcases</td>\n",
       "      <td>0</td>\n",
       "      <td>103.146750</td>\n",
       "    </tr>\n",
       "    <tr>\n",
       "      <th>1</th>\n",
       "      <td>FUR-CH-10000454</td>\n",
       "      <td>Hon Deluxe Fabric Upholstered Stacking Chairs,...</td>\n",
       "      <td>Furniture</td>\n",
       "      <td>Chairs</td>\n",
       "      <td>1</td>\n",
       "      <td>209.416167</td>\n",
       "    </tr>\n",
       "  </tbody>\n",
       "</table>\n",
       "</div>"
      ],
      "text/plain": [
       "      product_code                                       product_name  \\\n",
       "0  FUR-BO-10001798                  Bush Somerset Collection Bookcase   \n",
       "1  FUR-CH-10000454  Hon Deluxe Fabric Upholstered Stacking Chairs,...   \n",
       "\n",
       "    category sub_category  product_id  product_price  \n",
       "0  Furniture    Bookcases           0     103.146750  \n",
       "1  Furniture       Chairs           1     209.416167  "
      ]
     },
     "metadata": {},
     "output_type": "display_data"
    },
    {
     "data": {
      "text/html": [
       "<div>\n",
       "<style scoped>\n",
       "    .dataframe tbody tr th:only-of-type {\n",
       "        vertical-align: middle;\n",
       "    }\n",
       "\n",
       "    .dataframe tbody tr th {\n",
       "        vertical-align: top;\n",
       "    }\n",
       "\n",
       "    .dataframe thead th {\n",
       "        text-align: right;\n",
       "    }\n",
       "</style>\n",
       "<table border=\"1\" class=\"dataframe\">\n",
       "  <thead>\n",
       "    <tr style=\"text-align: right;\">\n",
       "      <th></th>\n",
       "      <th>customer_id</th>\n",
       "      <th>customer_name</th>\n",
       "      <th>segment</th>\n",
       "      <th>email</th>\n",
       "      <th>password</th>\n",
       "      <th>username</th>\n",
       "    </tr>\n",
       "  </thead>\n",
       "  <tbody>\n",
       "    <tr>\n",
       "      <th>0</th>\n",
       "      <td>CG-12520</td>\n",
       "      <td>Claire Gute</td>\n",
       "      <td>Consumer</td>\n",
       "      <td>hufferic@example.org</td>\n",
       "      <td>H0DTF^lN!m</td>\n",
       "      <td>stacey06</td>\n",
       "    </tr>\n",
       "    <tr>\n",
       "      <th>1</th>\n",
       "      <td>DV-13045</td>\n",
       "      <td>Darrin Van Huff</td>\n",
       "      <td>Corporate</td>\n",
       "      <td>ijordan@example.net</td>\n",
       "      <td>ebl_D1k&amp;%8</td>\n",
       "      <td>nicholasmorrison</td>\n",
       "    </tr>\n",
       "  </tbody>\n",
       "</table>\n",
       "</div>"
      ],
      "text/plain": [
       "  customer_id    customer_name    segment                 email    password  \\\n",
       "0    CG-12520      Claire Gute   Consumer  hufferic@example.org  H0DTF^lN!m   \n",
       "1    DV-13045  Darrin Van Huff  Corporate   ijordan@example.net  ebl_D1k&%8   \n",
       "\n",
       "           username  \n",
       "0          stacey06  \n",
       "1  nicholasmorrison  "
      ]
     },
     "metadata": {},
     "output_type": "display_data"
    }
   ],
   "source": [
    "display(product_t.head(2))\n",
    "display(customer_t.head(2))"
   ]
  },
  {
   "cell_type": "code",
   "execution_count": 17,
   "id": "9d198172",
   "metadata": {},
   "outputs": [
    {
     "ename": "OSError",
     "evalue": "Cannot save file into a non-existent directory: 'Datasets/db'",
     "output_type": "error",
     "traceback": [
      "\u001b[0;31m---------------------------------------------------------------------------\u001b[0m",
      "\u001b[0;31mOSError\u001b[0m                                   Traceback (most recent call last)",
      "Cell \u001b[0;32mIn[17], line 2\u001b[0m\n\u001b[1;32m      1\u001b[0m \u001b[38;5;66;03m# SAVE\u001b[39;00m\n\u001b[0;32m----> 2\u001b[0m \u001b[43mcustomer_t\u001b[49m\u001b[38;5;241;43m.\u001b[39;49m\u001b[43mto_csv\u001b[49m\u001b[43m(\u001b[49m\u001b[38;5;124;43m\"\u001b[39;49m\u001b[38;5;124;43mDatasets/db/Customers.csv\u001b[39;49m\u001b[38;5;124;43m\"\u001b[39;49m\u001b[43m,\u001b[49m\u001b[43m \u001b[49m\u001b[43mindex\u001b[49m\u001b[38;5;241;43m=\u001b[39;49m\u001b[38;5;28;43;01mFalse\u001b[39;49;00m\u001b[43m)\u001b[49m\n\u001b[1;32m      3\u001b[0m product_t\u001b[38;5;241m.\u001b[39mto_csv(\u001b[38;5;124m\"\u001b[39m\u001b[38;5;124mDatasets/db/Products.csv\u001b[39m\u001b[38;5;124m\"\u001b[39m, index\u001b[38;5;241m=\u001b[39m\u001b[38;5;28;01mFalse\u001b[39;00m)\n",
      "File \u001b[0;32m~/miniconda3/envs/DataEngineering/lib/python3.8/site-packages/pandas/util/_decorators.py:211\u001b[0m, in \u001b[0;36mdeprecate_kwarg.<locals>._deprecate_kwarg.<locals>.wrapper\u001b[0;34m(*args, **kwargs)\u001b[0m\n\u001b[1;32m    209\u001b[0m     \u001b[38;5;28;01melse\u001b[39;00m:\n\u001b[1;32m    210\u001b[0m         kwargs[new_arg_name] \u001b[38;5;241m=\u001b[39m new_arg_value\n\u001b[0;32m--> 211\u001b[0m \u001b[38;5;28;01mreturn\u001b[39;00m \u001b[43mfunc\u001b[49m\u001b[43m(\u001b[49m\u001b[38;5;241;43m*\u001b[39;49m\u001b[43margs\u001b[49m\u001b[43m,\u001b[49m\u001b[43m \u001b[49m\u001b[38;5;241;43m*\u001b[39;49m\u001b[38;5;241;43m*\u001b[39;49m\u001b[43mkwargs\u001b[49m\u001b[43m)\u001b[49m\n",
      "File \u001b[0;32m~/miniconda3/envs/DataEngineering/lib/python3.8/site-packages/pandas/core/generic.py:3720\u001b[0m, in \u001b[0;36mNDFrame.to_csv\u001b[0;34m(self, path_or_buf, sep, na_rep, float_format, columns, header, index, index_label, mode, encoding, compression, quoting, quotechar, lineterminator, chunksize, date_format, doublequote, escapechar, decimal, errors, storage_options)\u001b[0m\n\u001b[1;32m   3709\u001b[0m df \u001b[38;5;241m=\u001b[39m \u001b[38;5;28mself\u001b[39m \u001b[38;5;28;01mif\u001b[39;00m \u001b[38;5;28misinstance\u001b[39m(\u001b[38;5;28mself\u001b[39m, ABCDataFrame) \u001b[38;5;28;01melse\u001b[39;00m \u001b[38;5;28mself\u001b[39m\u001b[38;5;241m.\u001b[39mto_frame()\n\u001b[1;32m   3711\u001b[0m formatter \u001b[38;5;241m=\u001b[39m DataFrameFormatter(\n\u001b[1;32m   3712\u001b[0m     frame\u001b[38;5;241m=\u001b[39mdf,\n\u001b[1;32m   3713\u001b[0m     header\u001b[38;5;241m=\u001b[39mheader,\n\u001b[0;32m   (...)\u001b[0m\n\u001b[1;32m   3717\u001b[0m     decimal\u001b[38;5;241m=\u001b[39mdecimal,\n\u001b[1;32m   3718\u001b[0m )\n\u001b[0;32m-> 3720\u001b[0m \u001b[38;5;28;01mreturn\u001b[39;00m \u001b[43mDataFrameRenderer\u001b[49m\u001b[43m(\u001b[49m\u001b[43mformatter\u001b[49m\u001b[43m)\u001b[49m\u001b[38;5;241;43m.\u001b[39;49m\u001b[43mto_csv\u001b[49m\u001b[43m(\u001b[49m\n\u001b[1;32m   3721\u001b[0m \u001b[43m    \u001b[49m\u001b[43mpath_or_buf\u001b[49m\u001b[43m,\u001b[49m\n\u001b[1;32m   3722\u001b[0m \u001b[43m    \u001b[49m\u001b[43mlineterminator\u001b[49m\u001b[38;5;241;43m=\u001b[39;49m\u001b[43mlineterminator\u001b[49m\u001b[43m,\u001b[49m\n\u001b[1;32m   3723\u001b[0m \u001b[43m    \u001b[49m\u001b[43msep\u001b[49m\u001b[38;5;241;43m=\u001b[39;49m\u001b[43msep\u001b[49m\u001b[43m,\u001b[49m\n\u001b[1;32m   3724\u001b[0m \u001b[43m    \u001b[49m\u001b[43mencoding\u001b[49m\u001b[38;5;241;43m=\u001b[39;49m\u001b[43mencoding\u001b[49m\u001b[43m,\u001b[49m\n\u001b[1;32m   3725\u001b[0m \u001b[43m    \u001b[49m\u001b[43merrors\u001b[49m\u001b[38;5;241;43m=\u001b[39;49m\u001b[43merrors\u001b[49m\u001b[43m,\u001b[49m\n\u001b[1;32m   3726\u001b[0m \u001b[43m    \u001b[49m\u001b[43mcompression\u001b[49m\u001b[38;5;241;43m=\u001b[39;49m\u001b[43mcompression\u001b[49m\u001b[43m,\u001b[49m\n\u001b[1;32m   3727\u001b[0m \u001b[43m    \u001b[49m\u001b[43mquoting\u001b[49m\u001b[38;5;241;43m=\u001b[39;49m\u001b[43mquoting\u001b[49m\u001b[43m,\u001b[49m\n\u001b[1;32m   3728\u001b[0m \u001b[43m    \u001b[49m\u001b[43mcolumns\u001b[49m\u001b[38;5;241;43m=\u001b[39;49m\u001b[43mcolumns\u001b[49m\u001b[43m,\u001b[49m\n\u001b[1;32m   3729\u001b[0m \u001b[43m    \u001b[49m\u001b[43mindex_label\u001b[49m\u001b[38;5;241;43m=\u001b[39;49m\u001b[43mindex_label\u001b[49m\u001b[43m,\u001b[49m\n\u001b[1;32m   3730\u001b[0m \u001b[43m    \u001b[49m\u001b[43mmode\u001b[49m\u001b[38;5;241;43m=\u001b[39;49m\u001b[43mmode\u001b[49m\u001b[43m,\u001b[49m\n\u001b[1;32m   3731\u001b[0m \u001b[43m    \u001b[49m\u001b[43mchunksize\u001b[49m\u001b[38;5;241;43m=\u001b[39;49m\u001b[43mchunksize\u001b[49m\u001b[43m,\u001b[49m\n\u001b[1;32m   3732\u001b[0m \u001b[43m    \u001b[49m\u001b[43mquotechar\u001b[49m\u001b[38;5;241;43m=\u001b[39;49m\u001b[43mquotechar\u001b[49m\u001b[43m,\u001b[49m\n\u001b[1;32m   3733\u001b[0m \u001b[43m    \u001b[49m\u001b[43mdate_format\u001b[49m\u001b[38;5;241;43m=\u001b[39;49m\u001b[43mdate_format\u001b[49m\u001b[43m,\u001b[49m\n\u001b[1;32m   3734\u001b[0m \u001b[43m    \u001b[49m\u001b[43mdoublequote\u001b[49m\u001b[38;5;241;43m=\u001b[39;49m\u001b[43mdoublequote\u001b[49m\u001b[43m,\u001b[49m\n\u001b[1;32m   3735\u001b[0m \u001b[43m    \u001b[49m\u001b[43mescapechar\u001b[49m\u001b[38;5;241;43m=\u001b[39;49m\u001b[43mescapechar\u001b[49m\u001b[43m,\u001b[49m\n\u001b[1;32m   3736\u001b[0m \u001b[43m    \u001b[49m\u001b[43mstorage_options\u001b[49m\u001b[38;5;241;43m=\u001b[39;49m\u001b[43mstorage_options\u001b[49m\u001b[43m,\u001b[49m\n\u001b[1;32m   3737\u001b[0m \u001b[43m\u001b[49m\u001b[43m)\u001b[49m\n",
      "File \u001b[0;32m~/miniconda3/envs/DataEngineering/lib/python3.8/site-packages/pandas/util/_decorators.py:211\u001b[0m, in \u001b[0;36mdeprecate_kwarg.<locals>._deprecate_kwarg.<locals>.wrapper\u001b[0;34m(*args, **kwargs)\u001b[0m\n\u001b[1;32m    209\u001b[0m     \u001b[38;5;28;01melse\u001b[39;00m:\n\u001b[1;32m    210\u001b[0m         kwargs[new_arg_name] \u001b[38;5;241m=\u001b[39m new_arg_value\n\u001b[0;32m--> 211\u001b[0m \u001b[38;5;28;01mreturn\u001b[39;00m \u001b[43mfunc\u001b[49m\u001b[43m(\u001b[49m\u001b[38;5;241;43m*\u001b[39;49m\u001b[43margs\u001b[49m\u001b[43m,\u001b[49m\u001b[43m \u001b[49m\u001b[38;5;241;43m*\u001b[39;49m\u001b[38;5;241;43m*\u001b[39;49m\u001b[43mkwargs\u001b[49m\u001b[43m)\u001b[49m\n",
      "File \u001b[0;32m~/miniconda3/envs/DataEngineering/lib/python3.8/site-packages/pandas/io/formats/format.py:1189\u001b[0m, in \u001b[0;36mDataFrameRenderer.to_csv\u001b[0;34m(self, path_or_buf, encoding, sep, columns, index_label, mode, compression, quoting, quotechar, lineterminator, chunksize, date_format, doublequote, escapechar, errors, storage_options)\u001b[0m\n\u001b[1;32m   1168\u001b[0m     created_buffer \u001b[38;5;241m=\u001b[39m \u001b[38;5;28;01mFalse\u001b[39;00m\n\u001b[1;32m   1170\u001b[0m csv_formatter \u001b[38;5;241m=\u001b[39m CSVFormatter(\n\u001b[1;32m   1171\u001b[0m     path_or_buf\u001b[38;5;241m=\u001b[39mpath_or_buf,\n\u001b[1;32m   1172\u001b[0m     lineterminator\u001b[38;5;241m=\u001b[39mlineterminator,\n\u001b[0;32m   (...)\u001b[0m\n\u001b[1;32m   1187\u001b[0m     formatter\u001b[38;5;241m=\u001b[39m\u001b[38;5;28mself\u001b[39m\u001b[38;5;241m.\u001b[39mfmt,\n\u001b[1;32m   1188\u001b[0m )\n\u001b[0;32m-> 1189\u001b[0m \u001b[43mcsv_formatter\u001b[49m\u001b[38;5;241;43m.\u001b[39;49m\u001b[43msave\u001b[49m\u001b[43m(\u001b[49m\u001b[43m)\u001b[49m\n\u001b[1;32m   1191\u001b[0m \u001b[38;5;28;01mif\u001b[39;00m created_buffer:\n\u001b[1;32m   1192\u001b[0m     \u001b[38;5;28;01massert\u001b[39;00m \u001b[38;5;28misinstance\u001b[39m(path_or_buf, StringIO)\n",
      "File \u001b[0;32m~/miniconda3/envs/DataEngineering/lib/python3.8/site-packages/pandas/io/formats/csvs.py:241\u001b[0m, in \u001b[0;36mCSVFormatter.save\u001b[0;34m(self)\u001b[0m\n\u001b[1;32m    237\u001b[0m \u001b[38;5;124;03m\"\"\"\u001b[39;00m\n\u001b[1;32m    238\u001b[0m \u001b[38;5;124;03mCreate the writer & save.\u001b[39;00m\n\u001b[1;32m    239\u001b[0m \u001b[38;5;124;03m\"\"\"\u001b[39;00m\n\u001b[1;32m    240\u001b[0m \u001b[38;5;66;03m# apply compression and byte/text conversion\u001b[39;00m\n\u001b[0;32m--> 241\u001b[0m \u001b[38;5;28;01mwith\u001b[39;00m \u001b[43mget_handle\u001b[49m\u001b[43m(\u001b[49m\n\u001b[1;32m    242\u001b[0m \u001b[43m    \u001b[49m\u001b[38;5;28;43mself\u001b[39;49m\u001b[38;5;241;43m.\u001b[39;49m\u001b[43mfilepath_or_buffer\u001b[49m\u001b[43m,\u001b[49m\n\u001b[1;32m    243\u001b[0m \u001b[43m    \u001b[49m\u001b[38;5;28;43mself\u001b[39;49m\u001b[38;5;241;43m.\u001b[39;49m\u001b[43mmode\u001b[49m\u001b[43m,\u001b[49m\n\u001b[1;32m    244\u001b[0m \u001b[43m    \u001b[49m\u001b[43mencoding\u001b[49m\u001b[38;5;241;43m=\u001b[39;49m\u001b[38;5;28;43mself\u001b[39;49m\u001b[38;5;241;43m.\u001b[39;49m\u001b[43mencoding\u001b[49m\u001b[43m,\u001b[49m\n\u001b[1;32m    245\u001b[0m \u001b[43m    \u001b[49m\u001b[43merrors\u001b[49m\u001b[38;5;241;43m=\u001b[39;49m\u001b[38;5;28;43mself\u001b[39;49m\u001b[38;5;241;43m.\u001b[39;49m\u001b[43merrors\u001b[49m\u001b[43m,\u001b[49m\n\u001b[1;32m    246\u001b[0m \u001b[43m    \u001b[49m\u001b[43mcompression\u001b[49m\u001b[38;5;241;43m=\u001b[39;49m\u001b[38;5;28;43mself\u001b[39;49m\u001b[38;5;241;43m.\u001b[39;49m\u001b[43mcompression\u001b[49m\u001b[43m,\u001b[49m\n\u001b[1;32m    247\u001b[0m \u001b[43m    \u001b[49m\u001b[43mstorage_options\u001b[49m\u001b[38;5;241;43m=\u001b[39;49m\u001b[38;5;28;43mself\u001b[39;49m\u001b[38;5;241;43m.\u001b[39;49m\u001b[43mstorage_options\u001b[49m\u001b[43m,\u001b[49m\n\u001b[1;32m    248\u001b[0m \u001b[43m\u001b[49m\u001b[43m)\u001b[49m \u001b[38;5;28;01mas\u001b[39;00m handles:\n\u001b[1;32m    249\u001b[0m \n\u001b[1;32m    250\u001b[0m     \u001b[38;5;66;03m# Note: self.encoding is irrelevant here\u001b[39;00m\n\u001b[1;32m    251\u001b[0m     \u001b[38;5;28mself\u001b[39m\u001b[38;5;241m.\u001b[39mwriter \u001b[38;5;241m=\u001b[39m csvlib\u001b[38;5;241m.\u001b[39mwriter(\n\u001b[1;32m    252\u001b[0m         handles\u001b[38;5;241m.\u001b[39mhandle,\n\u001b[1;32m    253\u001b[0m         lineterminator\u001b[38;5;241m=\u001b[39m\u001b[38;5;28mself\u001b[39m\u001b[38;5;241m.\u001b[39mlineterminator,\n\u001b[0;32m   (...)\u001b[0m\n\u001b[1;32m    258\u001b[0m         quotechar\u001b[38;5;241m=\u001b[39m\u001b[38;5;28mself\u001b[39m\u001b[38;5;241m.\u001b[39mquotechar,\n\u001b[1;32m    259\u001b[0m     )\n\u001b[1;32m    261\u001b[0m     \u001b[38;5;28mself\u001b[39m\u001b[38;5;241m.\u001b[39m_save()\n",
      "File \u001b[0;32m~/miniconda3/envs/DataEngineering/lib/python3.8/site-packages/pandas/io/common.py:734\u001b[0m, in \u001b[0;36mget_handle\u001b[0;34m(path_or_buf, mode, encoding, compression, memory_map, is_text, errors, storage_options)\u001b[0m\n\u001b[1;32m    732\u001b[0m \u001b[38;5;66;03m# Only for write methods\u001b[39;00m\n\u001b[1;32m    733\u001b[0m \u001b[38;5;28;01mif\u001b[39;00m \u001b[38;5;124m\"\u001b[39m\u001b[38;5;124mr\u001b[39m\u001b[38;5;124m\"\u001b[39m \u001b[38;5;129;01mnot\u001b[39;00m \u001b[38;5;129;01min\u001b[39;00m mode \u001b[38;5;129;01mand\u001b[39;00m is_path:\n\u001b[0;32m--> 734\u001b[0m     \u001b[43mcheck_parent_directory\u001b[49m\u001b[43m(\u001b[49m\u001b[38;5;28;43mstr\u001b[39;49m\u001b[43m(\u001b[49m\u001b[43mhandle\u001b[49m\u001b[43m)\u001b[49m\u001b[43m)\u001b[49m\n\u001b[1;32m    736\u001b[0m \u001b[38;5;28;01mif\u001b[39;00m compression:\n\u001b[1;32m    737\u001b[0m     \u001b[38;5;28;01mif\u001b[39;00m compression \u001b[38;5;241m!=\u001b[39m \u001b[38;5;124m\"\u001b[39m\u001b[38;5;124mzstd\u001b[39m\u001b[38;5;124m\"\u001b[39m:\n\u001b[1;32m    738\u001b[0m         \u001b[38;5;66;03m# compression libraries do not like an explicit text-mode\u001b[39;00m\n",
      "File \u001b[0;32m~/miniconda3/envs/DataEngineering/lib/python3.8/site-packages/pandas/io/common.py:597\u001b[0m, in \u001b[0;36mcheck_parent_directory\u001b[0;34m(path)\u001b[0m\n\u001b[1;32m    595\u001b[0m parent \u001b[38;5;241m=\u001b[39m Path(path)\u001b[38;5;241m.\u001b[39mparent\n\u001b[1;32m    596\u001b[0m \u001b[38;5;28;01mif\u001b[39;00m \u001b[38;5;129;01mnot\u001b[39;00m parent\u001b[38;5;241m.\u001b[39mis_dir():\n\u001b[0;32m--> 597\u001b[0m     \u001b[38;5;28;01mraise\u001b[39;00m \u001b[38;5;167;01mOSError\u001b[39;00m(\u001b[38;5;124mrf\u001b[39m\u001b[38;5;124m\"\u001b[39m\u001b[38;5;124mCannot save file into a non-existent directory: \u001b[39m\u001b[38;5;124m'\u001b[39m\u001b[38;5;132;01m{\u001b[39;00mparent\u001b[38;5;132;01m}\u001b[39;00m\u001b[38;5;124m'\u001b[39m\u001b[38;5;124m\"\u001b[39m)\n",
      "\u001b[0;31mOSError\u001b[0m: Cannot save file into a non-existent directory: 'Datasets/db'"
     ]
    }
   ],
   "source": [
    "# SAVE\n",
    "customer_t.to_csv(\"Datasets/db/Customers.csv\", index=False)\n",
    "product_t.to_csv(\"Datasets/db/Products.csv\", index=False)"
   ]
  },
  {
   "cell_type": "markdown",
   "id": "b32ff7b9",
   "metadata": {},
   "source": [
    "## `3) Functional Generation`"
   ]
  },
  {
   "cell_type": "code",
   "execution_count": null,
   "id": "d5b082d6",
   "metadata": {},
   "outputs": [],
   "source": [
    "customer_t = pd.read_csv(\"Datasets/db/Customers.csv\")\n",
    "location_t = pd.read_csv(\"Datasets/db/Locations.csv\")\n",
    "order_detail_t = pd.read_csv(\"Datasets/db/Order_Details.csv\")\n",
    "order_t = pd.read_csv(\"Datasets/db/Orders.csv\")\n",
    "product_t = pd.read_csv(\"Datasets/db/Products.csv\")"
   ]
  },
  {
   "cell_type": "markdown",
   "id": "8885554c",
   "metadata": {},
   "source": [
    "### customer "
   ]
  },
  {
   "cell_type": "code",
   "execution_count": null,
   "id": "174c8b9c",
   "metadata": {},
   "outputs": [],
   "source": [
    "customer_t = pd.read_csv(\"Datasets/db/Customers.csv\")\n",
    "\n",
    "def generate_email():\n",
    "    break_num = 100\n",
    "    email = fake.email()\n",
    "    i = 0 \n",
    "    while email in customer_t[\"email\"].to_list():\n",
    "        email = fake.email()\n",
    "        if i == break_num:\n",
    "            break   \n",
    "    return email\n",
    "\n",
    "def generate_password():\n",
    "    break_num = 100\n",
    "    password = fake.password()\n",
    "    i = 0 \n",
    "    while password in customer_t[\"password\"].to_list():\n",
    "        password = fake.password()\n",
    "        if i == break_num:\n",
    "            break\n",
    "    return password\n",
    "            \n",
    "def generate_username():\n",
    "    break_num = 100\n",
    "    username = fake.user_name()\n",
    "    i = 0 \n",
    "    while username in customer_t[\"username\"].to_list():\n",
    "        username = fake.user_name()\n",
    "        if i == break_num:\n",
    "            break\n",
    "    return username\n",
    "\n",
    "def generate_customer_id():\n",
    "    c_code_pt_1 = 'RS'\n",
    "    rows_c_code_pt_1 = customer_t[customer_t[\"customer_id\"].str.contains('RS', na=False)]\n",
    "    rows_c_code_pt_1_ids = rows_c_code_pt_1[\"customer_id\"].to_list()\n",
    "\n",
    "    c_code_pt_2 = '{:05}'.format(random.randrange(1, 10**5))  # 5-digit number\n",
    "\n",
    "    new_c_code = c_code_pt_1 + \"-\" + c_code_pt_2\n",
    "\n",
    "    while new_c_code in rows_c_code_pt_1_ids:\n",
    "        c_code_pt_2 = '{:05}'.format(random.randrange(1, 10**5))\n",
    "        new_c_code = c_code_pt_1 + \"-\" + c_code_pt_2\n",
    "    return new_c_code\n",
    "\n",
    "def generate_customer_name():\n",
    "    return fake.name()\n",
    "\n",
    "def generate_customer_segment():\n",
    "    n_items = 10\n",
    "    x = round(customer_t[\"segment\"].value_counts() / customer_t[\"segment\"].shape[0] * n_items)\n",
    "\n",
    "    # make pool of choices based on probabilites\n",
    "    segment_pool = []\n",
    "    for r, r_id  in list(zip(x, x.index)):\n",
    "        for occurance in range(int(r)):\n",
    "            segment_pool.append(r_id)\n",
    "\n",
    "    # select random index from pool\n",
    "    selected_index = random.randrange(0, len(segment_pool))\n",
    "    new_customer_segment = segment_pool[selected_index]\n",
    "    return new_customer_segment\n",
    "\n",
    "# main\n",
    "def register_customer_TX():\n",
    "    email = generate_email()\n",
    "    password = generate_password()\n",
    "    username = generate_username()\n",
    "\n",
    "    customer_id = generate_customer_id()\n",
    "    customer_name = generate_customer_name()\n",
    "    customer_segment = generate_customer_segment()\n",
    "    return email, password, username, customer_id, customer_name, customer_segment"
   ]
  },
  {
   "cell_type": "code",
   "execution_count": null,
   "id": "03588b70",
   "metadata": {
    "scrolled": true
   },
   "outputs": [],
   "source": [
    "register_customer_TX()"
   ]
  },
  {
   "cell_type": "markdown",
   "id": "7c2a9e6a",
   "metadata": {},
   "source": [
    "### locations"
   ]
  },
  {
   "cell_type": "code",
   "execution_count": null,
   "id": "d2e6fc81",
   "metadata": {},
   "outputs": [],
   "source": [
    "state_region_info = location_t.groupby([\"state\", \"region\"]).count()[[\"country\"]].\\\n",
    "                                    rename(columns={\"country\": \"count\"}).reset_index()\n",
    "def get_rand_location_data():\n",
    "    geolocator = Nominatim(user_agent=\"geoapiExercises\")\n",
    "    lat, lng = fake.local_latlng()[0:2]\n",
    "    location = geolocator.reverse(lat+\",\"+lng)\n",
    "    address = location.raw['address']\n",
    "    \n",
    "    city = address.get('city', '')\n",
    "    state = address.get('state', '')\n",
    "    country = address.get('country', '')\n",
    "    postal_code = address.get('postcode')\n",
    "    new_state_region_matches = state_region_info[state_region_info[\"state\"]==state]\n",
    "    if new_state_region_matches.shape[0] > 0:\n",
    "        region = new_state_region_matches.sample(1).iloc[0][\"region\"]\n",
    "    else:\n",
    "        region = \"Unknown\"\n",
    "    return city, state, country, postal_code, region\n",
    "\n",
    "def verify_as_new_location(country, state, zipcode, city):\n",
    "    fil_1 = location_t[\"country\"] == country\n",
    "    fil_2 = location_t[\"state\"] == state\n",
    "    fil_3 = location_t[\"postal_code\"] == zipcode\n",
    "    fil_4 = location_t[\"city\"] == city\n",
    "    location_match_num = location_t[fil_1 & fil_2 & fil_3 & fil_4].shape[0]\n",
    "    if location_match_num == 0:\n",
    "        return True\n",
    "    return False\n",
    "\n",
    "def generate_location_id():\n",
    "    return location_t[\"location_id\"].max() + 1\n",
    "\n",
    "# main\n",
    "def add_location_TX():\n",
    "    break_num = 100\n",
    "    \n",
    "    # get location data\n",
    "    city, state, country, postal_code, region = get_rand_location_data()\n",
    "    \n",
    "    # verify new location\n",
    "    new_location_verifed= verify_as_new_location(city, state, country, postal_code)\n",
    "    i = 0\n",
    "    while not new_location_verifed:\n",
    "        city, state, country, postal_code = get_rand_location_data()\n",
    "        new_location_verifed = verify_as_new_location(city, state, country, postal_code)\n",
    "        if i == break_num:\n",
    "            break\n",
    "    \n",
    "    # generate location ID\n",
    "    location_id = generate_location_id()\n",
    "\n",
    "    return country, city, state, postal_code, region, location_id"
   ]
  },
  {
   "cell_type": "code",
   "execution_count": 18,
   "id": "052440a1",
   "metadata": {},
   "outputs": [
    {
     "ename": "NameError",
     "evalue": "name 'add_location_TX' is not defined",
     "output_type": "error",
     "traceback": [
      "\u001b[0;31m---------------------------------------------------------------------------\u001b[0m",
      "\u001b[0;31mNameError\u001b[0m                                 Traceback (most recent call last)",
      "Cell \u001b[0;32mIn[18], line 1\u001b[0m\n\u001b[0;32m----> 1\u001b[0m \u001b[43madd_location_TX\u001b[49m()\n",
      "\u001b[0;31mNameError\u001b[0m: name 'add_location_TX' is not defined"
     ]
    }
   ],
   "source": [
    "add_location_TX()"
   ]
  },
  {
   "cell_type": "markdown",
   "id": "84eee41e",
   "metadata": {},
   "source": [
    "### orders + order details"
   ]
  },
  {
   "cell_type": "code",
   "execution_count": 19,
   "id": "c8ca8ca6",
   "metadata": {},
   "outputs": [],
   "source": [
    "import datetime"
   ]
  },
  {
   "cell_type": "code",
   "execution_count": 20,
   "id": "cd41d7ea",
   "metadata": {},
   "outputs": [],
   "source": [
    "def make_order_date():\n",
    "    return fake.date_between(start_date='-10y', end_date='today')\n",
    "\n",
    "def generate_ship_info(order_date):\n",
    "    ship_modes = order_t[\"ship_mode\"].unique()\n",
    "    new_ship_mode = ship_modes[random.randrange(0, len(ship_modes))]\n",
    "\n",
    "    if new_ship_mode == \"Same Day\":\n",
    "        ship_date = order_date \n",
    "    elif new_ship_mode == \"First Class\":\n",
    "        ship_date = order_date +  datetime.timedelta(days=random.randrange(1, 6))\n",
    "    elif new_ship_mode == \"Second Class\":\n",
    "        ship_date = order_date +  datetime.timedelta(days=random.randrange(7, 15))\n",
    "    else:\n",
    "        ship_date = order_date + datetime.timedelta(days=random.randrange(16, 30))\n",
    "\n",
    "    return new_ship_mode, ship_date\n",
    "\n",
    "def generate_order_id(date):\n",
    "    # order_id\n",
    "    order_id_pt_1_l = list(order_t[\"order_id\"].apply(lambda x: x.split(\"-\")[0]).unique())\n",
    "    order_id_pt_2_l = list(order_t[\"order_id\"].apply(lambda x: x.split(\"-\")[1]).unique())\n",
    "    order_id_pt_3_l = list(order_t[\"order_id\"].apply(lambda x: x.split(\"-\")[2]).unique())\n",
    "\n",
    "    selected_index_pt1 = random.randrange(0, len(order_id_pt_1_l))\n",
    "    new_pt1 = order_id_pt_1_l[selected_index_pt1]\n",
    "\n",
    "    new_pt2 = str(date.year)\n",
    "\n",
    "    random_six_digit = '{:06}'.format(random.randrange(1, 10**6))\n",
    "    while random_six_digit in order_id_pt_3_l:\n",
    "        print('repeat')\n",
    "        random_six_digit = '{:06}'.format(random.randrange(1, 10**6))\n",
    "    new_pt3 = random_six_digit\n",
    "\n",
    "    new_order_id = new_pt1 + \"-\" + new_pt2 + \"-\" + new_pt3\n",
    "    return new_order_id\n",
    "\n",
    "def get_customer_id():\n",
    "    customer_id_ind = random.randrange(0, customer_t['customer_id'].shape[0])\n",
    "    customer_id_selected = customer_t['customer_id'][customer_id_ind]\n",
    "    return customer_id_selected\n",
    "\n",
    "# main\n",
    "def order_TX():\n",
    "    order_date = make_order_date()\n",
    "    ship_mode, ship_date = generate_ship_info(order_date)\n",
    "    order_id = generate_order_id(date=order_date)\n",
    "    customer_id = get_customer_id()\n",
    "    return order_date, ship_date, ship_mode, order_id, customer_id\n",
    "    "
   ]
  },
  {
   "cell_type": "code",
   "execution_count": 21,
   "id": "b2a1b2ea",
   "metadata": {},
   "outputs": [],
   "source": [
    "def get_related_ids():\n",
    "    location_id_selected = location_t[\"location_id\"][random.randrange(0, location_t.shape[0])]\n",
    "    product_id_selected = product_t[\"product_id\"][random.randrange(0, product_t.shape[0])]\n",
    "    \n",
    "    return location_id_selected, product_id_selected\n",
    "\n",
    "def get_sales_data(product_id_selected):\n",
    "    ## quantity\n",
    "    n_items = 1000\n",
    "    x = round(order_detail_t[\"quantity\"].value_counts() / order_detail_t[\"quantity\"].shape[0] * n_items)\n",
    "    # make pool of choices based on probabilites\n",
    "    col_pool = []\n",
    "    for r, r_id  in list(zip(x, x.index)):\n",
    "        for occurance in range(int(r)):\n",
    "            col_pool.append(r_id)\n",
    "    selected_index = random.randrange(0, len(col_pool))\n",
    "    new_quantity = col_pool[selected_index]\n",
    "    \n",
    "    sales_change_l = [-1000, -500, -250, -100, -50, -25, -10, -5, 1, 2, 4, 5, 8, \n",
    "                      10, 15, 25, 37, 50, 75, 100, 150, 200, 300, 500, 1000]\n",
    "    new_expected_sales = float((product_t[product_t[\"product_id\"]==product_id_selected][\"product_price\"] * new_quantity))\n",
    "    new_baseline_sales = new_expected_sales + random.choice(sales_change_l) * new_quantity\n",
    "    new_discount = round(1 - min(new_baseline_sales/new_expected_sales, 1), 2)\n",
    "    new_profit = new_baseline_sales - new_expected_sales \n",
    "\n",
    "    return new_quantity, new_baseline_sales, new_discount, new_profit\n",
    "\n",
    "def generate_order_detail_id():\n",
    "    return order_detail_t[\"order_detail_id\"].max() + 1\n",
    "\n",
    "\n",
    "def order_detail_TX(order_id):\n",
    "    location_id, product_id = get_related_ids()\n",
    "    quantity, sales, discount, profit = get_sales_data(product_id_selected=product_id)\n",
    "    order_detail_id = generate_order_detail_id()\n",
    "    \n",
    "    return order_detail_id, order_id, product_id, location_id, sales, quantity, discount, profit"
   ]
  },
  {
   "cell_type": "code",
   "execution_count": 22,
   "id": "a576c2dc",
   "metadata": {},
   "outputs": [
    {
     "name": "stdout",
     "output_type": "stream",
     "text": [
      "ORDER ID: CA-2014-283659\n",
      "-  (datetime.date(2014, 9, 10), datetime.date(2014, 9, 30), 'Standard Class', 'CA-2014-283659', 'SJ-20125')\n",
      "\n",
      "order detail --> 4 entries\n",
      "-  (9995, 'CA-2014-283659', 1857, 371, -1913.088, 8, 23.01, -2000.0)\n",
      "-  (9995, 'CA-2014-283659', 603, 357, 1465.331, 7, 0, 1400.0)\n",
      "-  (9995, 'CA-2014-283659', 1217, 120, 185.79166666666666, 5, 0, 125.0)\n",
      "-  (9995, 'CA-2014-283659', 692, 180, 63.2148, 3, 0.32, -30.0)\n"
     ]
    }
   ],
   "source": [
    "order_date, ship_date, ship_mode, order_id, customer_id = order_TX()\n",
    "print(\"ORDER ID: {}\".format(order_id))\n",
    "print(\"-  \", end=\"\")\n",
    "print((order_date, ship_date, ship_mode, order_id, customer_id))\n",
    "print()\n",
    "\n",
    "order_detail_num = random.randrange(1, 5)\n",
    "print('order detail --> {} entries'.format(order_detail_num))\n",
    "for i in range(order_detail_num):\n",
    "    print(\"-  \", end=\"\")\n",
    "    print(order_detail_TX(order_id))\n"
   ]
  }
 ],
 "metadata": {
  "kernelspec": {
   "display_name": "DataEngineeringKer",
   "language": "python",
   "name": "dataengineeringker"
  },
  "language_info": {
   "codemirror_mode": {
    "name": "ipython",
    "version": 3
   },
   "file_extension": ".py",
   "mimetype": "text/x-python",
   "name": "python",
   "nbconvert_exporter": "python",
   "pygments_lexer": "ipython3",
   "version": "3.8.16"
  }
 },
 "nbformat": 4,
 "nbformat_minor": 5
}
