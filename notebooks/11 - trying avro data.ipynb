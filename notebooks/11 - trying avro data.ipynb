{
 "cells": [
  {
   "cell_type": "code",
   "execution_count": null,
   "id": "f79b944c",
   "metadata": {},
   "outputs": [],
   "source": [
    "import avro.schema\n",
    "from avro.datafile import DataFileReader, DataFileWriter\n",
    "from avro.io import DatumReader, DatumWriter\n",
    "\n",
    "schema = avro.schema.parse(open(\"Avro-Schemas/user.avsc\", \"rb\").read())\n",
    "\n",
    "writer = DataFileWriter(open(\"users.avro\", \"wb\"), DatumWriter(), schema)\n",
    "writer.append({\"name\": \"Alyssa\", \"favorite_number\": 256})\n",
    "writer.append({\"name\": \"Ben\", \"favorite_number\": 7, \"favorite_color\": \"red\"})\n",
    "writer.close()\n",
    "\n",
    "reader = DataFileReader(open(\"users.avro\", \"rb\"), DatumReader())\n",
    "for user in reader:\n",
    "    print(user)\n",
    "# reader.close()\n"
   ]
  },
  {
   "cell_type": "code",
   "execution_count": null,
   "id": "44048a53",
   "metadata": {},
   "outputs": [],
   "source": [
    "reader = DataFileReader(open(\"users.avro\", \"rb\"), DatumReader())\n",
    "list(reader)"
   ]
  },
  {
   "cell_type": "code",
   "execution_count": null,
   "id": "d4cd754e",
   "metadata": {},
   "outputs": [],
   "source": [
    "reader = DataFileReader(open(\"sales_feed+0+0000000009+0000000009.avro\", \"rb\"), DatumReader())\n",
    "list(reader) "
   ]
  },
  {
   "cell_type": "code",
   "execution_count": null,
   "id": "22abc415",
   "metadata": {},
   "outputs": [],
   "source": [
    "list(reader)"
   ]
  }
 ],
 "metadata": {
  "kernelspec": {
   "display_name": "DataEngineeringKer",
   "language": "python",
   "name": "dataengineeringker"
  },
  "language_info": {
   "codemirror_mode": {
    "name": "ipython",
    "version": 3
   },
   "file_extension": ".py",
   "mimetype": "text/x-python",
   "name": "python",
   "nbconvert_exporter": "python",
   "pygments_lexer": "ipython3",
   "version": "3.8.16"
  }
 },
 "nbformat": 4,
 "nbformat_minor": 5
}
