{
 "cells": [
  {
   "cell_type": "code",
   "execution_count": 1,
   "id": "b13cdbc1",
   "metadata": {},
   "outputs": [],
   "source": [
    "import pandas as pd\n",
    "import numpy as np"
   ]
  },
  {
   "cell_type": "code",
   "execution_count": 2,
   "id": "0433e6d2",
   "metadata": {},
   "outputs": [],
   "source": [
    "from faker import Faker\n",
    "import random\n",
    "import datetime\n",
    "import os "
   ]
  },
  {
   "cell_type": "code",
   "execution_count": 3,
   "id": "713c31be",
   "metadata": {},
   "outputs": [],
   "source": [
    "data_dir = os.path.join(\"..\", \"Datasets\", \"db\")\n",
    "customer_t = pd.read_csv(os.path.join(data_dir, \"Customers.csv\"))\n",
    "location_t = pd.read_csv(os.path.join(data_dir, \"Locations.csv\"))\n",
    "order_detail_t = pd.read_csv(os.path.join(data_dir, \"Order_Details.csv\"))\n",
    "order_t = pd.read_csv(os.path.join(data_dir, \"Orders.csv\"))\n",
    "product_t = pd.read_csv(os.path.join(data_dir, \"Products.csv\"))\n",
    "\n",
    "fake = Faker()"
   ]
  },
  {
   "cell_type": "markdown",
   "id": "2777f271",
   "metadata": {},
   "source": [
    "## `1) Manual Generation`"
   ]
  },
  {
   "cell_type": "markdown",
   "id": "9b1d2e6d",
   "metadata": {},
   "source": [
    "### 1- customers"
   ]
  },
  {
   "cell_type": "markdown",
   "id": "c35ccd55",
   "metadata": {},
   "source": [
    "add column:\n",
    "- customer email\n",
    "- customer password (prefer encrypted)\n",
    "- customer username\n",
    "\n",
    "add new data entries (custom way):\n",
    "- id \n",
    "- customer segment"
   ]
  },
  {
   "cell_type": "code",
   "execution_count": 4,
   "id": "1a0d0e04",
   "metadata": {},
   "outputs": [
    {
     "data": {
      "text/html": [
       "<div>\n",
       "<style scoped>\n",
       "    .dataframe tbody tr th:only-of-type {\n",
       "        vertical-align: middle;\n",
       "    }\n",
       "\n",
       "    .dataframe tbody tr th {\n",
       "        vertical-align: top;\n",
       "    }\n",
       "\n",
       "    .dataframe thead th {\n",
       "        text-align: right;\n",
       "    }\n",
       "</style>\n",
       "<table border=\"1\" class=\"dataframe\">\n",
       "  <thead>\n",
       "    <tr style=\"text-align: right;\">\n",
       "      <th></th>\n",
       "      <th>customer_id</th>\n",
       "      <th>customer_name</th>\n",
       "      <th>segment</th>\n",
       "    </tr>\n",
       "  </thead>\n",
       "  <tbody>\n",
       "    <tr>\n",
       "      <th>0</th>\n",
       "      <td>CG-12520</td>\n",
       "      <td>Claire Gute</td>\n",
       "      <td>Consumer</td>\n",
       "    </tr>\n",
       "    <tr>\n",
       "      <th>1</th>\n",
       "      <td>DV-13045</td>\n",
       "      <td>Darrin Van Huff</td>\n",
       "      <td>Corporate</td>\n",
       "    </tr>\n",
       "    <tr>\n",
       "      <th>2</th>\n",
       "      <td>SO-20335</td>\n",
       "      <td>Sean O'Donnell</td>\n",
       "      <td>Consumer</td>\n",
       "    </tr>\n",
       "    <tr>\n",
       "      <th>3</th>\n",
       "      <td>BH-11710</td>\n",
       "      <td>Brosina Hoffman</td>\n",
       "      <td>Consumer</td>\n",
       "    </tr>\n",
       "    <tr>\n",
       "      <th>4</th>\n",
       "      <td>AA-10480</td>\n",
       "      <td>Andrew Allen</td>\n",
       "      <td>Consumer</td>\n",
       "    </tr>\n",
       "  </tbody>\n",
       "</table>\n",
       "</div>"
      ],
      "text/plain": [
       "  customer_id    customer_name    segment\n",
       "0    CG-12520      Claire Gute   Consumer\n",
       "1    DV-13045  Darrin Van Huff  Corporate\n",
       "2    SO-20335   Sean O'Donnell   Consumer\n",
       "3    BH-11710  Brosina Hoffman   Consumer\n",
       "4    AA-10480     Andrew Allen   Consumer"
      ]
     },
     "execution_count": 4,
     "metadata": {},
     "output_type": "execute_result"
    }
   ],
   "source": [
    "customer_t.head()"
   ]
  },
  {
   "cell_type": "markdown",
   "id": "bf5580dd",
   "metadata": {},
   "source": [
    "**`Data Enrichment`**"
   ]
  },
  {
   "cell_type": "code",
   "execution_count": 5,
   "id": "282b25f8",
   "metadata": {},
   "outputs": [
    {
     "name": "stdout",
     "output_type": "stream",
     "text": [
      "number of supposed unique values: 793\n",
      "number of unique emails: 793\n",
      "number of unique passwords: 793\n",
      "number of unique user names: 793\n"
     ]
    },
    {
     "data": {
      "text/html": [
       "<div>\n",
       "<style scoped>\n",
       "    .dataframe tbody tr th:only-of-type {\n",
       "        vertical-align: middle;\n",
       "    }\n",
       "\n",
       "    .dataframe tbody tr th {\n",
       "        vertical-align: top;\n",
       "    }\n",
       "\n",
       "    .dataframe thead th {\n",
       "        text-align: right;\n",
       "    }\n",
       "</style>\n",
       "<table border=\"1\" class=\"dataframe\">\n",
       "  <thead>\n",
       "    <tr style=\"text-align: right;\">\n",
       "      <th></th>\n",
       "      <th>customer_id</th>\n",
       "      <th>customer_name</th>\n",
       "      <th>segment</th>\n",
       "      <th>email</th>\n",
       "      <th>password</th>\n",
       "      <th>username</th>\n",
       "    </tr>\n",
       "  </thead>\n",
       "  <tbody>\n",
       "    <tr>\n",
       "      <th>0</th>\n",
       "      <td>CG-12520</td>\n",
       "      <td>Claire Gute</td>\n",
       "      <td>Consumer</td>\n",
       "      <td>ericlong@example.com</td>\n",
       "      <td>O8&amp;2BqfJ_b</td>\n",
       "      <td>brownann</td>\n",
       "    </tr>\n",
       "    <tr>\n",
       "      <th>1</th>\n",
       "      <td>DV-13045</td>\n",
       "      <td>Darrin Van Huff</td>\n",
       "      <td>Corporate</td>\n",
       "      <td>amandaglenn@example.com</td>\n",
       "      <td>(b7MIFoj))</td>\n",
       "      <td>salazarangela</td>\n",
       "    </tr>\n",
       "  </tbody>\n",
       "</table>\n",
       "</div>"
      ],
      "text/plain": [
       "  customer_id    customer_name    segment                    email  \\\n",
       "0    CG-12520      Claire Gute   Consumer     ericlong@example.com   \n",
       "1    DV-13045  Darrin Van Huff  Corporate  amandaglenn@example.com   \n",
       "\n",
       "     password       username  \n",
       "0  O8&2BqfJ_b       brownann  \n",
       "1  (b7MIFoj))  salazarangela  "
      ]
     },
     "metadata": {},
     "output_type": "display_data"
    }
   ],
   "source": [
    "emails = []\n",
    "passwords = []\n",
    "usernames = []\n",
    "num_unique = customer_t.shape[0]\n",
    "\n",
    "for i in range(num_unique):\n",
    "    emails.append(fake.email())\n",
    "    passwords.append(fake.password())\n",
    "    usernames.append(fake.user_name())\n",
    "\n",
    "emails = list(set(emails))\n",
    "passwords = list(set(passwords))\n",
    "\n",
    "while len(emails) < num_unique:\n",
    "    emails.append(fake.email())\n",
    "    emails = list(set(emails))\n",
    "while len(passwords) < num_unique:\n",
    "    passwords.append(fake.password())\n",
    "    passwords = list(set(passwords))\n",
    "\n",
    "customer_t[\"email\"] = emails\n",
    "customer_t[\"password\"] = passwords\n",
    "customer_t[\"username\"] = usernames\n",
    "\n",
    "\n",
    "print(\"number of supposed unique values: {}\".format(customer_t.shape[0]))\n",
    "print(\"number of unique emails: {}\".format(len(emails)))\n",
    "print(\"number of unique passwords: {}\".format(len(passwords)))\n",
    "print(\"number of unique user names: {}\".format(len(usernames)))\n",
    "display(customer_t.head(2))"
   ]
  },
  {
   "cell_type": "markdown",
   "id": "3df1f27d",
   "metadata": {},
   "source": [
    "**`data generation`**"
   ]
  },
  {
   "cell_type": "code",
   "execution_count": 6,
   "id": "c78983d2",
   "metadata": {},
   "outputs": [
    {
     "name": "stdout",
     "output_type": "stream",
     "text": [
      "new customer ID: RS-87885\n",
      "new customer name: Caleb Scott\n",
      "segment pool item -> Home Office\n",
      "email: jasonstewart@example.net / password: !y#uUzPn&3 / username: christineruiz\n"
     ]
    }
   ],
   "source": [
    "# customer_id\n",
    "c_code_pt_1 = 'RS'\n",
    "rows_c_code_pt_1 = customer_t[customer_t[\"customer_id\"].str.contains('RS', na=False)]\n",
    "rows_c_code_pt_1_ids = rows_c_code_pt_1[\"customer_id\"].to_list()\n",
    "c_code_pt_2 = '{:05}'.format(random.randrange(1, 10**5))  # 5-digit number\n",
    "new_c_code = c_code_pt_1 + \"-\" + c_code_pt_2\n",
    "while new_c_code in rows_c_code_pt_1_ids:\n",
    "    c_code_pt_2 = '{:05}'.format(random.randrange(1, 10**5))\n",
    "    new_c_code = c_code_pt_1 + \"-\" + c_code_pt_2\n",
    "print(\"new customer ID: {}\".format(new_c_code))\n",
    "\n",
    "\n",
    "# name\n",
    "new_c_name = fake.name()\n",
    "print('new customer name: {}'.format(new_c_name))\n",
    "\n",
    "\n",
    "# customer segment\n",
    "n_items = 10\n",
    "customer_seg_dist = round(customer_t[\"segment\"].value_counts() / customer_t[\"segment\"].shape[0] * n_items)\n",
    "segment_pool = []\n",
    "for r, r_id  in list(zip(customer_seg_dist, customer_seg_dist.index)):\n",
    "    for occurance in range(int(r)):\n",
    "        segment_pool.append(r_id)\n",
    "selected_index = random.randrange(0, len(segment_pool))\n",
    "new_c_segment = segment_pool[selected_index]\n",
    "print(\"segment pool item -> {}\".format(new_c_segment))\n",
    "\n",
    "\n",
    "# email, password, username\n",
    "print(\"email: {} / password: {} / username: {}\".format(fake.email(), fake.password(), fake.user_name()))\n"
   ]
  },
  {
   "cell_type": "markdown",
   "id": "ac0a65df",
   "metadata": {},
   "source": [
    "### 2- locations"
   ]
  },
  {
   "cell_type": "markdown",
   "id": "9fd43eee",
   "metadata": {},
   "source": [
    "add new data entries (custom way):\n",
    "- country \n",
    "- city\n",
    "- state\n",
    "- postal_code\n",
    "\n",
    "\n",
    "default values:\n",
    "- region (\"Unknown\")\n",
    "- location_id (max_id + 1)\n"
   ]
  },
  {
   "cell_type": "code",
   "execution_count": 7,
   "id": "4f19d314",
   "metadata": {},
   "outputs": [
    {
     "data": {
      "text/html": [
       "<div>\n",
       "<style scoped>\n",
       "    .dataframe tbody tr th:only-of-type {\n",
       "        vertical-align: middle;\n",
       "    }\n",
       "\n",
       "    .dataframe tbody tr th {\n",
       "        vertical-align: top;\n",
       "    }\n",
       "\n",
       "    .dataframe thead th {\n",
       "        text-align: right;\n",
       "    }\n",
       "</style>\n",
       "<table border=\"1\" class=\"dataframe\">\n",
       "  <thead>\n",
       "    <tr style=\"text-align: right;\">\n",
       "      <th></th>\n",
       "      <th>country</th>\n",
       "      <th>city</th>\n",
       "      <th>state</th>\n",
       "      <th>postal_code</th>\n",
       "      <th>region</th>\n",
       "      <th>location_id</th>\n",
       "    </tr>\n",
       "  </thead>\n",
       "  <tbody>\n",
       "    <tr>\n",
       "      <th>0</th>\n",
       "      <td>United States</td>\n",
       "      <td>Henderson</td>\n",
       "      <td>Kentucky</td>\n",
       "      <td>42420</td>\n",
       "      <td>South</td>\n",
       "      <td>0</td>\n",
       "    </tr>\n",
       "    <tr>\n",
       "      <th>1</th>\n",
       "      <td>United States</td>\n",
       "      <td>Los Angeles</td>\n",
       "      <td>California</td>\n",
       "      <td>90036</td>\n",
       "      <td>West</td>\n",
       "      <td>1</td>\n",
       "    </tr>\n",
       "    <tr>\n",
       "      <th>2</th>\n",
       "      <td>United States</td>\n",
       "      <td>Fort Lauderdale</td>\n",
       "      <td>Florida</td>\n",
       "      <td>33311</td>\n",
       "      <td>South</td>\n",
       "      <td>2</td>\n",
       "    </tr>\n",
       "    <tr>\n",
       "      <th>3</th>\n",
       "      <td>United States</td>\n",
       "      <td>Los Angeles</td>\n",
       "      <td>California</td>\n",
       "      <td>90032</td>\n",
       "      <td>West</td>\n",
       "      <td>3</td>\n",
       "    </tr>\n",
       "    <tr>\n",
       "      <th>4</th>\n",
       "      <td>United States</td>\n",
       "      <td>Concord</td>\n",
       "      <td>North Carolina</td>\n",
       "      <td>28027</td>\n",
       "      <td>South</td>\n",
       "      <td>4</td>\n",
       "    </tr>\n",
       "  </tbody>\n",
       "</table>\n",
       "</div>"
      ],
      "text/plain": [
       "         country             city           state  postal_code region  \\\n",
       "0  United States        Henderson        Kentucky        42420  South   \n",
       "1  United States      Los Angeles      California        90036   West   \n",
       "2  United States  Fort Lauderdale         Florida        33311  South   \n",
       "3  United States      Los Angeles      California        90032   West   \n",
       "4  United States          Concord  North Carolina        28027  South   \n",
       "\n",
       "   location_id  \n",
       "0            0  \n",
       "1            1  \n",
       "2            2  \n",
       "3            3  \n",
       "4            4  "
      ]
     },
     "execution_count": 7,
     "metadata": {},
     "output_type": "execute_result"
    }
   ],
   "source": [
    "location_t.head()"
   ]
  },
  {
   "cell_type": "markdown",
   "id": "90d52d0a",
   "metadata": {},
   "source": [
    "**`data generation`**"
   ]
  },
  {
   "cell_type": "code",
   "execution_count": 8,
   "id": "40796526",
   "metadata": {},
   "outputs": [],
   "source": [
    "from geopy.geocoders import Nominatim"
   ]
  },
  {
   "cell_type": "code",
   "execution_count": 9,
   "id": "2540fecc",
   "metadata": {},
   "outputs": [
    {
     "name": "stdout",
     "output_type": "stream",
     "text": [
      "found 0 matches in DB\n",
      "new location entry - ID 632: ('United States', 'Chicago', 'Illinois', '60608', 'Central', 632)\n"
     ]
    }
   ],
   "source": [
    "# - processing random location\n",
    "geolocator = Nominatim(user_agent=\"geoapiExercises\")\n",
    "Latitude = str(fake.latitude())\n",
    "Longitude = str(fake.longitude())\n",
    "lat, lng = fake.local_latlng()[0:2]\n",
    "location = geolocator.reverse(lat+\",\"+lng)\n",
    "address = location.raw['address']\n",
    "\n",
    "# city, state, country, zipcode\n",
    "new_city = address.get('city', '')\n",
    "new_state = address.get('state', '')\n",
    "new_country = address.get('country', '')\n",
    "new_zipcode = address.get('postcode')\n",
    "\n",
    "# region\n",
    "state_region_info = location_t.groupby([\"state\", \"region\"]).count()[[\"country\"]].\\\n",
    "                                    rename(columns={\"country\": \"count\"}).reset_index()\n",
    "def get_region(state_i):\n",
    "    new_state_region_matches = state_region_info[state_region_info[\"state\"]==state_i]\n",
    "    if new_state_region_matches.shape[0] > 0:\n",
    "        new_region = new_state_region_matches.sample(1).iloc[0][\"region\"]\n",
    "    else:\n",
    "        new_region = \"Unknown\"\n",
    "    return new_region\n",
    "\n",
    "# location id\n",
    "fil_1 = location_t[\"country\"] == new_country\n",
    "fil_2 = location_t[\"state\"] == new_state\n",
    "fil_3 = location_t[\"postal_code\"] == new_zipcode\n",
    "fil_4 = location_t[\"city\"] == new_city\n",
    "location_match_num = location_t[fil_1 & fil_2 & fil_3 & fil_4].shape[0]\n",
    "print(\"found {} matches in DB\".format(location_match_num))\n",
    "if location_match_num == 0:\n",
    "    new_location_id = location_t[\"location_id\"].max() + 1\n",
    "    new_region = get_region(new_state)    \n",
    "    new_location = (new_country, new_city, new_state, new_zipcode, new_region, new_location_id)\n",
    "    print(\"new location entry - ID {}: {}\".format(new_location_id, new_location))\n",
    "else:\n",
    "    new_location_id = None\n",
    "    print(\"no new location: {}\".format(new_location))\n"
   ]
  },
  {
   "cell_type": "markdown",
   "id": "8705c930",
   "metadata": {},
   "source": [
    "---"
   ]
  },
  {
   "cell_type": "markdown",
   "id": "0891a37b",
   "metadata": {},
   "source": [
    "### 3- orders"
   ]
  },
  {
   "cell_type": "markdown",
   "id": "091c7b0c",
   "metadata": {},
   "source": [
    "add new data entries (custom way):\n",
    "- order_id\n",
    "- ship mode\n",
    "- order_date\n",
    "- ship_date\n",
    "- customer_id"
   ]
  },
  {
   "cell_type": "code",
   "execution_count": 10,
   "id": "cbc03ea0",
   "metadata": {},
   "outputs": [
    {
     "data": {
      "text/html": [
       "<div>\n",
       "<style scoped>\n",
       "    .dataframe tbody tr th:only-of-type {\n",
       "        vertical-align: middle;\n",
       "    }\n",
       "\n",
       "    .dataframe tbody tr th {\n",
       "        vertical-align: top;\n",
       "    }\n",
       "\n",
       "    .dataframe thead th {\n",
       "        text-align: right;\n",
       "    }\n",
       "</style>\n",
       "<table border=\"1\" class=\"dataframe\">\n",
       "  <thead>\n",
       "    <tr style=\"text-align: right;\">\n",
       "      <th></th>\n",
       "      <th>order_id</th>\n",
       "      <th>order_date</th>\n",
       "      <th>ship_date</th>\n",
       "      <th>ship_mode</th>\n",
       "      <th>customer_id</th>\n",
       "    </tr>\n",
       "  </thead>\n",
       "  <tbody>\n",
       "    <tr>\n",
       "      <th>0</th>\n",
       "      <td>CA-2016-152156</td>\n",
       "      <td>2016-11-08</td>\n",
       "      <td>2016-11-11</td>\n",
       "      <td>Second Class</td>\n",
       "      <td>CG-12520</td>\n",
       "    </tr>\n",
       "    <tr>\n",
       "      <th>1</th>\n",
       "      <td>CA-2016-138688</td>\n",
       "      <td>2016-06-12</td>\n",
       "      <td>2016-06-16</td>\n",
       "      <td>Second Class</td>\n",
       "      <td>DV-13045</td>\n",
       "    </tr>\n",
       "    <tr>\n",
       "      <th>2</th>\n",
       "      <td>US-2015-108966</td>\n",
       "      <td>2015-10-11</td>\n",
       "      <td>2015-10-18</td>\n",
       "      <td>Standard Class</td>\n",
       "      <td>SO-20335</td>\n",
       "    </tr>\n",
       "    <tr>\n",
       "      <th>3</th>\n",
       "      <td>CA-2014-115812</td>\n",
       "      <td>2014-06-09</td>\n",
       "      <td>2014-06-14</td>\n",
       "      <td>Standard Class</td>\n",
       "      <td>BH-11710</td>\n",
       "    </tr>\n",
       "    <tr>\n",
       "      <th>4</th>\n",
       "      <td>CA-2017-114412</td>\n",
       "      <td>2017-04-15</td>\n",
       "      <td>2017-04-20</td>\n",
       "      <td>Standard Class</td>\n",
       "      <td>AA-10480</td>\n",
       "    </tr>\n",
       "  </tbody>\n",
       "</table>\n",
       "</div>"
      ],
      "text/plain": [
       "         order_id  order_date   ship_date       ship_mode customer_id\n",
       "0  CA-2016-152156  2016-11-08  2016-11-11    Second Class    CG-12520\n",
       "1  CA-2016-138688  2016-06-12  2016-06-16    Second Class    DV-13045\n",
       "2  US-2015-108966  2015-10-11  2015-10-18  Standard Class    SO-20335\n",
       "3  CA-2014-115812  2014-06-09  2014-06-14  Standard Class    BH-11710\n",
       "4  CA-2017-114412  2017-04-15  2017-04-20  Standard Class    AA-10480"
      ]
     },
     "execution_count": 10,
     "metadata": {},
     "output_type": "execute_result"
    }
   ],
   "source": [
    "order_t.head()"
   ]
  },
  {
   "cell_type": "markdown",
   "id": "532379d1",
   "metadata": {},
   "source": [
    "**`data generation`**"
   ]
  },
  {
   "cell_type": "code",
   "execution_count": 11,
   "id": "be12d86e",
   "metadata": {},
   "outputs": [],
   "source": [
    "import datetime"
   ]
  },
  {
   "cell_type": "code",
   "execution_count": 12,
   "id": "df84ed56",
   "metadata": {},
   "outputs": [
    {
     "name": "stdout",
     "output_type": "stream",
     "text": [
      "order_id: US-2017-716721\n",
      "order_date: 2017-12-07 / ship_date: 2017-12-09 / ship_mode: First Class\n",
      "customer_id: JR-15670\n"
     ]
    }
   ],
   "source": [
    "# ship mode + order_date + ship_date\n",
    "ship_modes = order_t[\"ship_mode\"].unique()\n",
    "new_ship_mode = ship_modes[random.randrange(0, len(ship_modes))]\n",
    "order_date = fake.date_between(start_date='-10y', end_date='today')\n",
    "if new_ship_mode == \"Same Day\":\n",
    "    ship_date = order_date \n",
    "elif new_ship_mode == \"First Class\":\n",
    "    ship_date = order_date + datetime.timedelta(days=random.randrange(1, 6))\n",
    "elif new_ship_mode == \"Second Class\":\n",
    "    ship_date = order_date + datetime.timedelta(days=random.randrange(7, 15))\n",
    "else:\n",
    "    ship_date = order_date + datetime.timedelta(days=random.randrange(16, 30))\n",
    "\n",
    "    \n",
    "# order_id\n",
    "order_id_pt_1_l = list(order_t[\"order_id\"].apply(lambda x: x.split(\"-\")[0]).unique())\n",
    "order_id_pt_2_l = list(order_t[\"order_id\"].apply(lambda x: x.split(\"-\")[1]).unique())\n",
    "order_id_pt_3_l = list(order_t[\"order_id\"].apply(lambda x: x.split(\"-\")[2]).unique())\n",
    "selected_index_pt1 = random.randrange(0, len(order_id_pt_1_l))\n",
    "new_pt1 = order_id_pt_1_l[selected_index_pt1] # new_order_id_pt1, \n",
    "new_pt2 = str(order_date.year) # new_order_id_pt2 \n",
    "random_six_digit = '{:06}'.format(random.randrange(1, 10**6))\n",
    "while random_six_digit in order_id_pt_3_l:\n",
    "    print('repeat')\n",
    "    random_six_digit = '{:06}'.format(random.randrange(1, 10**6))\n",
    "new_pt3 = random_six_digit # new_order_id_pt3\n",
    "new_order_id = new_pt1 + \"-\" + new_pt2 + \"-\" + new_pt3  # new_order_id\n",
    "    \n",
    "\n",
    "# customer_id (FK)\n",
    "customer_id_ind = random.randrange(0, customer_t['customer_id'].shape[0])\n",
    "customer_id_selected = customer_t['customer_id'][customer_id_ind]\n",
    "\n",
    "\n",
    "print(\"order_id: {}\".format(new_order_id))\n",
    "print(\"order_date: {} / ship_date: {} / ship_mode: {}\".\n",
    "                                            format(order_date, ship_date, new_ship_mode))\n",
    "print(\"customer_id: {}\".format(customer_id_selected))"
   ]
  },
  {
   "cell_type": "markdown",
   "id": "46239143",
   "metadata": {},
   "source": [
    "### 4- products"
   ]
  },
  {
   "cell_type": "markdown",
   "id": "09197488",
   "metadata": {},
   "source": [
    "add column:\n",
    "- product price"
   ]
  },
  {
   "cell_type": "markdown",
   "id": "7290fa59",
   "metadata": {},
   "source": [
    "**`data enrichment`**"
   ]
  },
  {
   "cell_type": "code",
   "execution_count": 13,
   "id": "94e7e5e9",
   "metadata": {
    "scrolled": true
   },
   "outputs": [
    {
     "name": "stderr",
     "output_type": "stream",
     "text": [
      "/tmp/ipykernel_380965/3067284744.py:3: FutureWarning: The default value of numeric_only in DataFrameGroupBy.mean is deprecated. In a future version, numeric_only will default to False. Either specify numeric_only or select only columns which should be valid for the function.\n",
      "  product_t[\"product_price\"] = order_detail_tccc.groupby([\"product_id\"]).mean()[\"price\"]\n"
     ]
    },
    {
     "data": {
      "text/html": [
       "<div>\n",
       "<style scoped>\n",
       "    .dataframe tbody tr th:only-of-type {\n",
       "        vertical-align: middle;\n",
       "    }\n",
       "\n",
       "    .dataframe tbody tr th {\n",
       "        vertical-align: top;\n",
       "    }\n",
       "\n",
       "    .dataframe thead th {\n",
       "        text-align: right;\n",
       "    }\n",
       "</style>\n",
       "<table border=\"1\" class=\"dataframe\">\n",
       "  <thead>\n",
       "    <tr style=\"text-align: right;\">\n",
       "      <th></th>\n",
       "      <th>product_code</th>\n",
       "      <th>product_name</th>\n",
       "      <th>category</th>\n",
       "      <th>sub_category</th>\n",
       "      <th>product_id</th>\n",
       "      <th>product_price</th>\n",
       "    </tr>\n",
       "  </thead>\n",
       "  <tbody>\n",
       "    <tr>\n",
       "      <th>0</th>\n",
       "      <td>FUR-BO-10001798</td>\n",
       "      <td>Bush Somerset Collection Bookcase</td>\n",
       "      <td>Furniture</td>\n",
       "      <td>Bookcases</td>\n",
       "      <td>0</td>\n",
       "      <td>103.146750</td>\n",
       "    </tr>\n",
       "    <tr>\n",
       "      <th>1</th>\n",
       "      <td>FUR-CH-10000454</td>\n",
       "      <td>Hon Deluxe Fabric Upholstered Stacking Chairs,...</td>\n",
       "      <td>Furniture</td>\n",
       "      <td>Chairs</td>\n",
       "      <td>1</td>\n",
       "      <td>209.416167</td>\n",
       "    </tr>\n",
       "    <tr>\n",
       "      <th>2</th>\n",
       "      <td>OFF-LA-10000240</td>\n",
       "      <td>Self-Adhesive Address Labels for Typewriters b...</td>\n",
       "      <td>Office Supplies</td>\n",
       "      <td>Labels</td>\n",
       "      <td>2</td>\n",
       "      <td>6.683429</td>\n",
       "    </tr>\n",
       "    <tr>\n",
       "      <th>3</th>\n",
       "      <td>FUR-TA-10000577</td>\n",
       "      <td>Bretford CR4500 Series Slim Rectangular Table</td>\n",
       "      <td>Furniture</td>\n",
       "      <td>Tables</td>\n",
       "      <td>3</td>\n",
       "      <td>256.804875</td>\n",
       "    </tr>\n",
       "    <tr>\n",
       "      <th>4</th>\n",
       "      <td>OFF-ST-10000760</td>\n",
       "      <td>Eldon Fold 'N Roll Cart System</td>\n",
       "      <td>Office Supplies</td>\n",
       "      <td>Storage</td>\n",
       "      <td>4</td>\n",
       "      <td>12.302400</td>\n",
       "    </tr>\n",
       "  </tbody>\n",
       "</table>\n",
       "</div>"
      ],
      "text/plain": [
       "      product_code                                       product_name  \\\n",
       "0  FUR-BO-10001798                  Bush Somerset Collection Bookcase   \n",
       "1  FUR-CH-10000454  Hon Deluxe Fabric Upholstered Stacking Chairs,...   \n",
       "2  OFF-LA-10000240  Self-Adhesive Address Labels for Typewriters b...   \n",
       "3  FUR-TA-10000577      Bretford CR4500 Series Slim Rectangular Table   \n",
       "4  OFF-ST-10000760                     Eldon Fold 'N Roll Cart System   \n",
       "\n",
       "          category sub_category  product_id  product_price  \n",
       "0        Furniture    Bookcases           0     103.146750  \n",
       "1        Furniture       Chairs           1     209.416167  \n",
       "2  Office Supplies       Labels           2       6.683429  \n",
       "3        Furniture       Tables           3     256.804875  \n",
       "4  Office Supplies      Storage           4      12.302400  "
      ]
     },
     "execution_count": 13,
     "metadata": {},
     "output_type": "execute_result"
    }
   ],
   "source": [
    "order_detail_tccc = order_detail_t.copy() \n",
    "order_detail_tccc[\"price\"] = order_detail_tccc[\"sales\"] / order_detail_tccc[\"quantity\"]\n",
    "product_t[\"product_price\"] = order_detail_tccc.groupby([\"product_id\"]).mean()[\"price\"]\n",
    "product_t.head()"
   ]
  },
  {
   "cell_type": "markdown",
   "id": "eee4741b",
   "metadata": {},
   "source": [
    "### 5- order details "
   ]
  },
  {
   "cell_type": "markdown",
   "id": "568f9128",
   "metadata": {},
   "source": [
    "add new data entries (custom way):\n",
    "- order_id, product_id, location_id\n",
    "- sales, quantity, discount, profit\n",
    "- order_detail_id\n"
   ]
  },
  {
   "cell_type": "code",
   "execution_count": 14,
   "id": "8aefb024",
   "metadata": {
    "scrolled": true
   },
   "outputs": [
    {
     "data": {
      "text/html": [
       "<div>\n",
       "<style scoped>\n",
       "    .dataframe tbody tr th:only-of-type {\n",
       "        vertical-align: middle;\n",
       "    }\n",
       "\n",
       "    .dataframe tbody tr th {\n",
       "        vertical-align: top;\n",
       "    }\n",
       "\n",
       "    .dataframe thead th {\n",
       "        text-align: right;\n",
       "    }\n",
       "</style>\n",
       "<table border=\"1\" class=\"dataframe\">\n",
       "  <thead>\n",
       "    <tr style=\"text-align: right;\">\n",
       "      <th></th>\n",
       "      <th>order_detail_id</th>\n",
       "      <th>order_id</th>\n",
       "      <th>product_id</th>\n",
       "      <th>location_id</th>\n",
       "      <th>sales</th>\n",
       "      <th>quantity</th>\n",
       "      <th>discount</th>\n",
       "      <th>profit</th>\n",
       "    </tr>\n",
       "  </thead>\n",
       "  <tbody>\n",
       "    <tr>\n",
       "      <th>0</th>\n",
       "      <td>1</td>\n",
       "      <td>CA-2016-152156</td>\n",
       "      <td>0</td>\n",
       "      <td>0</td>\n",
       "      <td>261.9600</td>\n",
       "      <td>2</td>\n",
       "      <td>0.00</td>\n",
       "      <td>41.9136</td>\n",
       "    </tr>\n",
       "    <tr>\n",
       "      <th>1</th>\n",
       "      <td>2</td>\n",
       "      <td>CA-2016-152156</td>\n",
       "      <td>1</td>\n",
       "      <td>0</td>\n",
       "      <td>731.9400</td>\n",
       "      <td>3</td>\n",
       "      <td>0.00</td>\n",
       "      <td>219.5820</td>\n",
       "    </tr>\n",
       "    <tr>\n",
       "      <th>2</th>\n",
       "      <td>3</td>\n",
       "      <td>CA-2016-138688</td>\n",
       "      <td>2</td>\n",
       "      <td>1</td>\n",
       "      <td>14.6200</td>\n",
       "      <td>2</td>\n",
       "      <td>0.00</td>\n",
       "      <td>6.8714</td>\n",
       "    </tr>\n",
       "    <tr>\n",
       "      <th>3</th>\n",
       "      <td>4</td>\n",
       "      <td>US-2015-108966</td>\n",
       "      <td>3</td>\n",
       "      <td>2</td>\n",
       "      <td>957.5775</td>\n",
       "      <td>5</td>\n",
       "      <td>0.45</td>\n",
       "      <td>-383.0310</td>\n",
       "    </tr>\n",
       "    <tr>\n",
       "      <th>4</th>\n",
       "      <td>5</td>\n",
       "      <td>US-2015-108966</td>\n",
       "      <td>4</td>\n",
       "      <td>2</td>\n",
       "      <td>22.3680</td>\n",
       "      <td>2</td>\n",
       "      <td>0.20</td>\n",
       "      <td>2.5164</td>\n",
       "    </tr>\n",
       "  </tbody>\n",
       "</table>\n",
       "</div>"
      ],
      "text/plain": [
       "   order_detail_id        order_id  product_id  location_id     sales  \\\n",
       "0                1  CA-2016-152156           0            0  261.9600   \n",
       "1                2  CA-2016-152156           1            0  731.9400   \n",
       "2                3  CA-2016-138688           2            1   14.6200   \n",
       "3                4  US-2015-108966           3            2  957.5775   \n",
       "4                5  US-2015-108966           4            2   22.3680   \n",
       "\n",
       "   quantity  discount    profit  \n",
       "0         2      0.00   41.9136  \n",
       "1         3      0.00  219.5820  \n",
       "2         2      0.00    6.8714  \n",
       "3         5      0.45 -383.0310  \n",
       "4         2      0.20    2.5164  "
      ]
     },
     "execution_count": 14,
     "metadata": {},
     "output_type": "execute_result"
    }
   ],
   "source": [
    "order_detail_t.head()"
   ]
  },
  {
   "cell_type": "markdown",
   "id": "6fb0a60e",
   "metadata": {},
   "source": [
    "**`data generation`**"
   ]
  },
  {
   "cell_type": "code",
   "execution_count": 15,
   "id": "e8bfe5d8",
   "metadata": {},
   "outputs": [
    {
     "name": "stdout",
     "output_type": "stream",
     "text": [
      "location_id: 632 / order_id: US-2017-716721 / product_id: 154\n",
      "quantity: 2\n",
      "sales: 221.74857142857144 / discount: 0 / profit: 200.0\n",
      "order_detail_id: 9995\n"
     ]
    }
   ],
   "source": [
    "# location_id, order_id, product_id\n",
    "location_id_selected = new_location_id \n",
    "order_id_selected = new_order_id\n",
    "product_id_selected = product_t[\"product_id\"][random.randrange(0, product_t.shape[0])]\n",
    "print(\"location_id: {} / order_id: {} / product_id: {}\".\n",
    "                  format(location_id_selected, order_id_selected, product_id_selected))\n",
    "\n",
    "\n",
    "# quantity\n",
    "n_items = 1000\n",
    "quantity_dist = round(order_detail_t[\"quantity\"].value_counts() / order_detail_t[\"quantity\"].shape[0] * n_items)\n",
    "col_pool = []   # make pool of choices based on probabilites\n",
    "for r, r_id  in list(zip(quantity_dist, quantity_dist.index)):\n",
    "    for occurance in range(int(r)):\n",
    "        col_pool.append(r_id)\n",
    "# select random index from pool\n",
    "selected_index = random.randrange(0, len(col_pool))\n",
    "new_quantity = col_pool[selected_index]\n",
    "print(\"quantity: {}\".format(new_quantity))\n",
    "\n",
    "\n",
    "# sales, dicount, profit\n",
    "sales_change_l = [-1000, -500, -250, -100, -50, -25, -10, -5, 1, 2, 4, 5, 8, 10, 15, 25, 37, 50, 75, 100, 150, 200, 300, 500, 1000]\n",
    "new_expected_sales = float((product_t[product_t[\"product_id\"]==product_id_selected][\"product_price\"] * new_quantity))\n",
    "new_baseline_sales = new_expected_sales + random.choice(sales_change_l) * new_quantity\n",
    "new_discount = round(1 - min(new_baseline_sales/new_expected_sales, 1), 2)\n",
    "new_profit = new_baseline_sales - new_expected_sales\n",
    "print(\"sales: {} / discount: {} / profit: {}\".\n",
    "                                format(new_baseline_sales, new_discount, new_profit))\n",
    "\n",
    "\n",
    "# order_detail_id\n",
    "new_order_detail_id = order_detail_t[\"order_detail_id\"].max() + 1\n",
    "print(\"order_detail_id: {}\".format(new_order_detail_id))\n"
   ]
  },
  {
   "cell_type": "markdown",
   "id": "89f3b7d6",
   "metadata": {},
   "source": [
    "## `2) Save Enriched Data`"
   ]
  },
  {
   "cell_type": "code",
   "execution_count": 16,
   "id": "3f5e985d",
   "metadata": {},
   "outputs": [
    {
     "data": {
      "text/html": [
       "<div>\n",
       "<style scoped>\n",
       "    .dataframe tbody tr th:only-of-type {\n",
       "        vertical-align: middle;\n",
       "    }\n",
       "\n",
       "    .dataframe tbody tr th {\n",
       "        vertical-align: top;\n",
       "    }\n",
       "\n",
       "    .dataframe thead th {\n",
       "        text-align: right;\n",
       "    }\n",
       "</style>\n",
       "<table border=\"1\" class=\"dataframe\">\n",
       "  <thead>\n",
       "    <tr style=\"text-align: right;\">\n",
       "      <th></th>\n",
       "      <th>product_code</th>\n",
       "      <th>product_name</th>\n",
       "      <th>category</th>\n",
       "      <th>sub_category</th>\n",
       "      <th>product_id</th>\n",
       "      <th>product_price</th>\n",
       "    </tr>\n",
       "  </thead>\n",
       "  <tbody>\n",
       "    <tr>\n",
       "      <th>0</th>\n",
       "      <td>FUR-BO-10001798</td>\n",
       "      <td>Bush Somerset Collection Bookcase</td>\n",
       "      <td>Furniture</td>\n",
       "      <td>Bookcases</td>\n",
       "      <td>0</td>\n",
       "      <td>103.146750</td>\n",
       "    </tr>\n",
       "    <tr>\n",
       "      <th>1</th>\n",
       "      <td>FUR-CH-10000454</td>\n",
       "      <td>Hon Deluxe Fabric Upholstered Stacking Chairs,...</td>\n",
       "      <td>Furniture</td>\n",
       "      <td>Chairs</td>\n",
       "      <td>1</td>\n",
       "      <td>209.416167</td>\n",
       "    </tr>\n",
       "  </tbody>\n",
       "</table>\n",
       "</div>"
      ],
      "text/plain": [
       "      product_code                                       product_name  \\\n",
       "0  FUR-BO-10001798                  Bush Somerset Collection Bookcase   \n",
       "1  FUR-CH-10000454  Hon Deluxe Fabric Upholstered Stacking Chairs,...   \n",
       "\n",
       "    category sub_category  product_id  product_price  \n",
       "0  Furniture    Bookcases           0     103.146750  \n",
       "1  Furniture       Chairs           1     209.416167  "
      ]
     },
     "metadata": {},
     "output_type": "display_data"
    },
    {
     "data": {
      "text/html": [
       "<div>\n",
       "<style scoped>\n",
       "    .dataframe tbody tr th:only-of-type {\n",
       "        vertical-align: middle;\n",
       "    }\n",
       "\n",
       "    .dataframe tbody tr th {\n",
       "        vertical-align: top;\n",
       "    }\n",
       "\n",
       "    .dataframe thead th {\n",
       "        text-align: right;\n",
       "    }\n",
       "</style>\n",
       "<table border=\"1\" class=\"dataframe\">\n",
       "  <thead>\n",
       "    <tr style=\"text-align: right;\">\n",
       "      <th></th>\n",
       "      <th>customer_id</th>\n",
       "      <th>customer_name</th>\n",
       "      <th>segment</th>\n",
       "      <th>email</th>\n",
       "      <th>password</th>\n",
       "      <th>username</th>\n",
       "    </tr>\n",
       "  </thead>\n",
       "  <tbody>\n",
       "    <tr>\n",
       "      <th>0</th>\n",
       "      <td>CG-12520</td>\n",
       "      <td>Claire Gute</td>\n",
       "      <td>Consumer</td>\n",
       "      <td>ericlong@example.com</td>\n",
       "      <td>O8&amp;2BqfJ_b</td>\n",
       "      <td>brownann</td>\n",
       "    </tr>\n",
       "    <tr>\n",
       "      <th>1</th>\n",
       "      <td>DV-13045</td>\n",
       "      <td>Darrin Van Huff</td>\n",
       "      <td>Corporate</td>\n",
       "      <td>amandaglenn@example.com</td>\n",
       "      <td>(b7MIFoj))</td>\n",
       "      <td>salazarangela</td>\n",
       "    </tr>\n",
       "  </tbody>\n",
       "</table>\n",
       "</div>"
      ],
      "text/plain": [
       "  customer_id    customer_name    segment                    email  \\\n",
       "0    CG-12520      Claire Gute   Consumer     ericlong@example.com   \n",
       "1    DV-13045  Darrin Van Huff  Corporate  amandaglenn@example.com   \n",
       "\n",
       "     password       username  \n",
       "0  O8&2BqfJ_b       brownann  \n",
       "1  (b7MIFoj))  salazarangela  "
      ]
     },
     "metadata": {},
     "output_type": "display_data"
    }
   ],
   "source": [
    "display(product_t.head(2))\n",
    "display(customer_t.head(2))"
   ]
  },
  {
   "cell_type": "code",
   "execution_count": 17,
   "id": "9d198172",
   "metadata": {},
   "outputs": [],
   "source": [
    "# SAVE\n",
    "customer_t.to_csv(\"../Datasets/db/Customers.csv\", index=False)\n",
    "product_t.to_csv(\"../Datasets/db/Products.csv\", index=False)"
   ]
  },
  {
   "cell_type": "markdown",
   "id": "b32ff7b9",
   "metadata": {},
   "source": [
    "## `3) Functional Generation`"
   ]
  },
  {
   "cell_type": "code",
   "execution_count": 19,
   "id": "d5b082d6",
   "metadata": {},
   "outputs": [],
   "source": [
    "customer_t = pd.read_csv(\"../Datasets/db/Customers.csv\")\n",
    "location_t = pd.read_csv(\"../Datasets/db/Locations.csv\")\n",
    "order_detail_t = pd.read_csv(\"../Datasets/db/Order_Details.csv\")\n",
    "order_t = pd.read_csv(\"../Datasets/db/Orders.csv\")\n",
    "product_t = pd.read_csv(\"../Datasets/db/Products.csv\")"
   ]
  },
  {
   "cell_type": "markdown",
   "id": "8885554c",
   "metadata": {},
   "source": [
    "### customer "
   ]
  },
  {
   "cell_type": "code",
   "execution_count": 22,
   "id": "174c8b9c",
   "metadata": {},
   "outputs": [],
   "source": [
    "customer_t = pd.read_csv(\"../Datasets/db/Customers.csv\")\n",
    "\n",
    "def generate_email():\n",
    "    break_num = 100\n",
    "    email = fake.email()\n",
    "    i = 0 \n",
    "    while email in customer_t[\"email\"].to_list():\n",
    "        email = fake.email()\n",
    "        if i == break_num:\n",
    "            break   \n",
    "    return email\n",
    "\n",
    "def generate_password():\n",
    "    break_num = 100\n",
    "    password = fake.password()\n",
    "    i = 0 \n",
    "    while password in customer_t[\"password\"].to_list():\n",
    "        password = fake.password()\n",
    "        if i == break_num:\n",
    "            break\n",
    "    return password\n",
    "            \n",
    "def generate_username():\n",
    "    break_num = 100\n",
    "    username = fake.user_name()\n",
    "    i = 0 \n",
    "    while username in customer_t[\"username\"].to_list():\n",
    "        username = fake.user_name()\n",
    "        if i == break_num:\n",
    "            break\n",
    "    return username\n",
    "\n",
    "def generate_customer_id():\n",
    "    c_code_pt_1 = 'RS'\n",
    "    rows_c_code_pt_1 = customer_t[customer_t[\"customer_id\"].str.contains('RS', na=False)]\n",
    "    rows_c_code_pt_1_ids = rows_c_code_pt_1[\"customer_id\"].to_list()\n",
    "\n",
    "    c_code_pt_2 = '{:05}'.format(random.randrange(1, 10**5))  # 5-digit number\n",
    "\n",
    "    new_c_code = c_code_pt_1 + \"-\" + c_code_pt_2\n",
    "\n",
    "    while new_c_code in rows_c_code_pt_1_ids:\n",
    "        c_code_pt_2 = '{:05}'.format(random.randrange(1, 10**5))\n",
    "        new_c_code = c_code_pt_1 + \"-\" + c_code_pt_2\n",
    "    return new_c_code\n",
    "\n",
    "def generate_customer_name():\n",
    "    return fake.name()\n",
    "\n",
    "def generate_customer_segment():\n",
    "    n_items = 10\n",
    "    x = round(customer_t[\"segment\"].value_counts() / customer_t[\"segment\"].shape[0] * n_items)\n",
    "\n",
    "    # make pool of choices based on probabilites\n",
    "    segment_pool = []\n",
    "    for r, r_id  in list(zip(x, x.index)):\n",
    "        for occurance in range(int(r)):\n",
    "            segment_pool.append(r_id)\n",
    "\n",
    "    # select random index from pool\n",
    "    selected_index = random.randrange(0, len(segment_pool))\n",
    "    new_customer_segment = segment_pool[selected_index]\n",
    "    return new_customer_segment\n",
    "\n",
    "# main\n",
    "def register_customer_TX():\n",
    "    email = generate_email()\n",
    "    password = generate_password()\n",
    "    username = generate_username()\n",
    "\n",
    "    customer_id = generate_customer_id()\n",
    "    customer_name = generate_customer_name()\n",
    "    customer_segment = generate_customer_segment()\n",
    "    return email, password, username, customer_id, customer_name, customer_segment"
   ]
  },
  {
   "cell_type": "code",
   "execution_count": 23,
   "id": "03588b70",
   "metadata": {
    "scrolled": true
   },
   "outputs": [
    {
     "data": {
      "text/plain": [
       "('jfox@example.org',\n",
       " '3UKNWMn7!_',\n",
       " 'lgates',\n",
       " 'RS-82429',\n",
       " 'Becky Tucker',\n",
       " 'Home Office')"
      ]
     },
     "execution_count": 23,
     "metadata": {},
     "output_type": "execute_result"
    }
   ],
   "source": [
    "register_customer_TX()"
   ]
  },
  {
   "cell_type": "markdown",
   "id": "7c2a9e6a",
   "metadata": {},
   "source": [
    "### locations"
   ]
  },
  {
   "cell_type": "code",
   "execution_count": 24,
   "id": "d2e6fc81",
   "metadata": {},
   "outputs": [],
   "source": [
    "state_region_info = location_t.groupby([\"state\", \"region\"]).count()[[\"country\"]].\\\n",
    "                                    rename(columns={\"country\": \"count\"}).reset_index()\n",
    "def get_rand_location_data():\n",
    "    geolocator = Nominatim(user_agent=\"geoapiExercises\")\n",
    "    lat, lng = fake.local_latlng()[0:2]\n",
    "    location = geolocator.reverse(lat+\",\"+lng)\n",
    "    address = location.raw['address']\n",
    "    \n",
    "    city = address.get('city', '')\n",
    "    state = address.get('state', '')\n",
    "    country = address.get('country', '')\n",
    "    postal_code = address.get('postcode')\n",
    "    new_state_region_matches = state_region_info[state_region_info[\"state\"]==state]\n",
    "    if new_state_region_matches.shape[0] > 0:\n",
    "        region = new_state_region_matches.sample(1).iloc[0][\"region\"]\n",
    "    else:\n",
    "        region = \"Unknown\"\n",
    "    return city, state, country, postal_code, region\n",
    "\n",
    "def verify_as_new_location(country, state, zipcode, city):\n",
    "    fil_1 = location_t[\"country\"] == country\n",
    "    fil_2 = location_t[\"state\"] == state\n",
    "    fil_3 = location_t[\"postal_code\"] == zipcode\n",
    "    fil_4 = location_t[\"city\"] == city\n",
    "    location_match_num = location_t[fil_1 & fil_2 & fil_3 & fil_4].shape[0]\n",
    "    if location_match_num == 0:\n",
    "        return True\n",
    "    return False\n",
    "\n",
    "def generate_location_id():\n",
    "    return location_t[\"location_id\"].max() + 1\n",
    "\n",
    "# main\n",
    "def add_location_TX():\n",
    "    break_num = 100\n",
    "    \n",
    "    # get location data\n",
    "    city, state, country, postal_code, region = get_rand_location_data()\n",
    "    \n",
    "    # verify new location\n",
    "    new_location_verifed= verify_as_new_location(city, state, country, postal_code)\n",
    "    i = 0\n",
    "    while not new_location_verifed:\n",
    "        city, state, country, postal_code = get_rand_location_data()\n",
    "        new_location_verifed = verify_as_new_location(city, state, country, postal_code)\n",
    "        if i == break_num:\n",
    "            break\n",
    "    \n",
    "    # generate location ID\n",
    "    location_id = generate_location_id()\n",
    "\n",
    "    return country, city, state, postal_code, region, location_id"
   ]
  },
  {
   "cell_type": "code",
   "execution_count": 25,
   "id": "052440a1",
   "metadata": {},
   "outputs": [
    {
     "data": {
      "text/plain": [
       "('United States', 'Pahrump', 'Nevada', '89048', 'West', 632)"
      ]
     },
     "execution_count": 25,
     "metadata": {},
     "output_type": "execute_result"
    }
   ],
   "source": [
    "add_location_TX()"
   ]
  },
  {
   "cell_type": "markdown",
   "id": "84eee41e",
   "metadata": {},
   "source": [
    "### orders + order details"
   ]
  },
  {
   "cell_type": "code",
   "execution_count": 26,
   "id": "c8ca8ca6",
   "metadata": {},
   "outputs": [],
   "source": [
    "import datetime"
   ]
  },
  {
   "cell_type": "code",
   "execution_count": 27,
   "id": "cd41d7ea",
   "metadata": {},
   "outputs": [],
   "source": [
    "def make_order_date():\n",
    "    return fake.date_between(start_date='-10y', end_date='today')\n",
    "\n",
    "def generate_ship_info(order_date):\n",
    "    ship_modes = order_t[\"ship_mode\"].unique()\n",
    "    new_ship_mode = ship_modes[random.randrange(0, len(ship_modes))]\n",
    "\n",
    "    if new_ship_mode == \"Same Day\":\n",
    "        ship_date = order_date \n",
    "    elif new_ship_mode == \"First Class\":\n",
    "        ship_date = order_date +  datetime.timedelta(days=random.randrange(1, 6))\n",
    "    elif new_ship_mode == \"Second Class\":\n",
    "        ship_date = order_date +  datetime.timedelta(days=random.randrange(7, 15))\n",
    "    else:\n",
    "        ship_date = order_date + datetime.timedelta(days=random.randrange(16, 30))\n",
    "\n",
    "    return new_ship_mode, ship_date\n",
    "\n",
    "def generate_order_id(date):\n",
    "    # order_id\n",
    "    order_id_pt_1_l = list(order_t[\"order_id\"].apply(lambda x: x.split(\"-\")[0]).unique())\n",
    "    order_id_pt_2_l = list(order_t[\"order_id\"].apply(lambda x: x.split(\"-\")[1]).unique())\n",
    "    order_id_pt_3_l = list(order_t[\"order_id\"].apply(lambda x: x.split(\"-\")[2]).unique())\n",
    "\n",
    "    selected_index_pt1 = random.randrange(0, len(order_id_pt_1_l))\n",
    "    new_pt1 = order_id_pt_1_l[selected_index_pt1]\n",
    "\n",
    "    new_pt2 = str(date.year)\n",
    "\n",
    "    random_six_digit = '{:06}'.format(random.randrange(1, 10**6))\n",
    "    while random_six_digit in order_id_pt_3_l:\n",
    "        print('repeat')\n",
    "        random_six_digit = '{:06}'.format(random.randrange(1, 10**6))\n",
    "    new_pt3 = random_six_digit\n",
    "\n",
    "    new_order_id = new_pt1 + \"-\" + new_pt2 + \"-\" + new_pt3\n",
    "    return new_order_id\n",
    "\n",
    "def get_customer_id():\n",
    "    customer_id_ind = random.randrange(0, customer_t['customer_id'].shape[0])\n",
    "    customer_id_selected = customer_t['customer_id'][customer_id_ind]\n",
    "    return customer_id_selected\n",
    "\n",
    "# main\n",
    "def order_TX():\n",
    "    order_date = make_order_date()\n",
    "    ship_mode, ship_date = generate_ship_info(order_date)\n",
    "    order_id = generate_order_id(date=order_date)\n",
    "    customer_id = get_customer_id()\n",
    "    return order_date, ship_date, ship_mode, order_id, customer_id\n",
    "    "
   ]
  },
  {
   "cell_type": "code",
   "execution_count": 28,
   "id": "b2a1b2ea",
   "metadata": {},
   "outputs": [],
   "source": [
    "def get_related_ids():\n",
    "    location_id_selected = location_t[\"location_id\"][random.randrange(0, location_t.shape[0])]\n",
    "    product_id_selected = product_t[\"product_id\"][random.randrange(0, product_t.shape[0])]\n",
    "    \n",
    "    return location_id_selected, product_id_selected\n",
    "\n",
    "def get_sales_data(product_id_selected):\n",
    "    ## quantity\n",
    "    n_items = 1000\n",
    "    x = round(order_detail_t[\"quantity\"].value_counts() / order_detail_t[\"quantity\"].shape[0] * n_items)\n",
    "    # make pool of choices based on probabilites\n",
    "    col_pool = []\n",
    "    for r, r_id  in list(zip(x, x.index)):\n",
    "        for occurance in range(int(r)):\n",
    "            col_pool.append(r_id)\n",
    "    selected_index = random.randrange(0, len(col_pool))\n",
    "    new_quantity = col_pool[selected_index]\n",
    "    \n",
    "    sales_change_l = [-1000, -500, -250, -100, -50, -25, -10, -5, 1, 2, 4, 5, 8, \n",
    "                      10, 15, 25, 37, 50, 75, 100, 150, 200, 300, 500, 1000]\n",
    "    new_expected_sales = float((product_t[product_t[\"product_id\"]==product_id_selected][\"product_price\"] * new_quantity))\n",
    "    new_baseline_sales = new_expected_sales + random.choice(sales_change_l) * new_quantity\n",
    "    new_discount = round(1 - min(new_baseline_sales/new_expected_sales, 1), 2)\n",
    "    new_profit = new_baseline_sales - new_expected_sales \n",
    "\n",
    "    return new_quantity, new_baseline_sales, new_discount, new_profit\n",
    "\n",
    "def generate_order_detail_id():\n",
    "    return order_detail_t[\"order_detail_id\"].max() + 1\n",
    "\n",
    "\n",
    "def order_detail_TX(order_id):\n",
    "    location_id, product_id = get_related_ids()\n",
    "    quantity, sales, discount, profit = get_sales_data(product_id_selected=product_id)\n",
    "    order_detail_id = generate_order_detail_id()\n",
    "    \n",
    "    return order_detail_id, order_id, product_id, location_id, sales, quantity, discount, profit"
   ]
  },
  {
   "cell_type": "code",
   "execution_count": 29,
   "id": "a576c2dc",
   "metadata": {},
   "outputs": [
    {
     "name": "stdout",
     "output_type": "stream",
     "text": [
      "ORDER ID: US-2022-879884\n",
      "-  (datetime.date(2022, 2, 20), datetime.date(2022, 2, 20), 'Same Day', 'US-2022-879884', 'MG-17890')\n",
      "\n",
      "order detail --> 1 entries\n",
      "-  (9995, 'US-2022-879884', 151, 486, 635.88, 6, 0, 600.0)\n"
     ]
    }
   ],
   "source": [
    "order_date, ship_date, ship_mode, order_id, customer_id = order_TX()\n",
    "print(\"ORDER ID: {}\".format(order_id))\n",
    "print(\"-  \", end=\"\")\n",
    "print((order_date, ship_date, ship_mode, order_id, customer_id))\n",
    "print()\n",
    "\n",
    "order_detail_num = random.randrange(1, 5)\n",
    "print('order detail --> {} entries'.format(order_detail_num))\n",
    "for i in range(order_detail_num):\n",
    "    print(\"-  \", end=\"\")\n",
    "    print(order_detail_TX(order_id))\n"
   ]
  }
 ],
 "metadata": {
  "kernelspec": {
   "display_name": "DataEngineeringKer",
   "language": "python",
   "name": "dataengineeringker"
  },
  "language_info": {
   "codemirror_mode": {
    "name": "ipython",
    "version": 3
   },
   "file_extension": ".py",
   "mimetype": "text/x-python",
   "name": "python",
   "nbconvert_exporter": "python",
   "pygments_lexer": "ipython3",
   "version": "3.8.16"
  }
 },
 "nbformat": 4,
 "nbformat_minor": 5
}
