{
 "cells": [
  {
   "cell_type": "code",
   "execution_count": 1,
   "id": "5cf28d98",
   "metadata": {},
   "outputs": [],
   "source": [
    "import requests"
   ]
  },
  {
   "cell_type": "markdown",
   "id": "55e51454",
   "metadata": {},
   "source": [
    "### `Flask API` (NOT NEEDED)"
   ]
  },
  {
   "cell_type": "code",
   "execution_count": 2,
   "id": "da5c70da",
   "metadata": {},
   "outputs": [],
   "source": [
    "url = \"http://localhost:5000/api/v1/resources/orders/tx\""
   ]
  },
  {
   "cell_type": "code",
   "execution_count": 3,
   "id": "1968332e",
   "metadata": {
    "scrolled": true
   },
   "outputs": [
    {
     "data": {
      "text/plain": [
       "<Response [200]>"
      ]
     },
     "execution_count": 3,
     "metadata": {},
     "output_type": "execute_result"
    }
   ],
   "source": [
    "response = requests.request(\"GET\", url)\n",
    "print(\"STATUS: {}\".format(response))\n",
    "\n",
    "content = response.json()\n",
    "content"
   ]
  },
  {
   "cell_type": "markdown",
   "id": "fd91ebd2",
   "metadata": {},
   "source": [
    "### `FastAPI`"
   ]
  },
  {
   "cell_type": "code",
   "execution_count": 8,
   "id": "927bd86c",
   "metadata": {},
   "outputs": [],
   "source": [
    "url = \"http://localhost:8000/api/v1/resources/locations/tx\""
   ]
  },
  {
   "cell_type": "code",
   "execution_count": 9,
   "id": "13205dcb",
   "metadata": {},
   "outputs": [
    {
     "name": "stdout",
     "output_type": "stream",
     "text": [
      "STATUS: <Response [200]>\n"
     ]
    },
    {
     "data": {
      "text/plain": [
       "{'country': 'United States',\n",
       " 'city': 'Fitchburg',\n",
       " 'state': 'Massachusetts',\n",
       " 'postal_code': '01420',\n",
       " 'region': 'East'}"
      ]
     },
     "execution_count": 9,
     "metadata": {},
     "output_type": "execute_result"
    }
   ],
   "source": [
    "response = requests.request(\"GET\", url)\n",
    "print(\"STATUS: {}\".format(response))\n",
    "\n",
    "content = response.json()\n",
    "content"
   ]
  },
  {
   "cell_type": "code",
   "execution_count": 10,
   "id": "09f3cf22",
   "metadata": {},
   "outputs": [],
   "source": [
    "url = \"http://localhost:8000/api/v1/resources/orders/tx\""
   ]
  },
  {
   "cell_type": "code",
   "execution_count": 11,
   "id": "c41f15e9",
   "metadata": {},
   "outputs": [
    {
     "name": "stdout",
     "output_type": "stream",
     "text": [
      "STATUS: <Response [200]>\n"
     ]
    },
    {
     "data": {
      "text/plain": [
       "{'order_id': 'CA-2013-315314',\n",
       " 'order_date': '2013-06-20',\n",
       " 'ship_date': '2013-06-30',\n",
       " 'ship_mode': 'Second Class',\n",
       " 'customer_id': 'AR-10345',\n",
       " 'order_details': [{'order_detail_id': '9995',\n",
       "   'order_id': 'CA-2013-315314',\n",
       "   'product_id': '1106',\n",
       "   'location_id': '266',\n",
       "   'sales': '227.232',\n",
       "   'quantity': '4',\n",
       "   'discount': '0',\n",
       "   'profit': '200.0'},\n",
       "  {'order_detail_id': '9995',\n",
       "   'order_id': 'CA-2013-315314',\n",
       "   'product_id': '1067',\n",
       "   'location_id': '555',\n",
       "   'sales': '15.672',\n",
       "   'quantity': '3',\n",
       "   'discount': '0',\n",
       "   'profit': '3.0'}]}"
      ]
     },
     "execution_count": 11,
     "metadata": {},
     "output_type": "execute_result"
    }
   ],
   "source": [
    "response = requests.request(\"GET\", url)\n",
    "print(\"STATUS: {}\".format(response))\n",
    "\n",
    "content = response.json()\n",
    "content"
   ]
  }
 ],
 "metadata": {
  "kernelspec": {
   "display_name": "DataEngineeringKer",
   "language": "python",
   "name": "dataengineeringker"
  },
  "language_info": {
   "codemirror_mode": {
    "name": "ipython",
    "version": 3
   },
   "file_extension": ".py",
   "mimetype": "text/x-python",
   "name": "python",
   "nbconvert_exporter": "python",
   "pygments_lexer": "ipython3",
   "version": "3.8.16"
  }
 },
 "nbformat": 4,
 "nbformat_minor": 5
}
